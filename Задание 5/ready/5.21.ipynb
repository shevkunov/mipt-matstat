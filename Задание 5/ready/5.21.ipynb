{
 "cells": [
  {
   "cell_type": "markdown",
   "metadata": {
    "deletable": true,
    "editable": true
   },
   "source": [
    "# Математическая статистика\n",
    "## Практическое задание 5\n",
    "\n",
    "В данном задании предлагается провести некоторое исследование модели линейной регрессии и критериев для проверки статистических гипотез, в частности применить этим модели к реальным данным.\n",
    "\n",
    "**Правила:**\n",
    "\n",
    "* Выполненную работу нужно отправить на почту `probability.diht@yandex.ru`, указав тему письма `\"[номер группы] Фамилия Имя - Задание 5\"`. Квадратные скобки обязательны. Вместо `Фамилия Имя` нужно подставить свои фамилию и имя.\n",
    "* Прислать нужно ноутбук и его pdf-версию. Названия файлов должны быть такими: `5.N.ipynb` и `5.N.pdf`, где `N` - ваш номер из таблицы с оценками.\n",
    "* Никакой код из данного задания при проверке запускаться не будет.\n",
    "* Некоторые задачи отмечены символом <font size=\"5\" color=\"red\">\\*</font>. Эти задачи являются дополнительными. Успешное выполнение большей части таких задач (за все задания) является необходимым условием получения бонусного балла за практическую часть курса.\n",
    "* Баллы за каждую задачу указаны далее. Если сумма баллов за задание меньше 25% (без учета доп. задач), то все задание оценивается в 0 баллов.\n",
    "\n",
    "\n",
    "**Баллы за задание:**\n",
    "\n",
    "* Задача 1 - 7 баллов\n",
    "* Задача 2 - 2 балла\n",
    "* Задача 3<font size=\"5\" color=\"red\">\\*</font> - 3 балла\n",
    "* Задача 4 - 2 балла\n",
    "* Задача 5<font size=\"5\" color=\"red\">\\*</font> - 10 баллов\n",
    "* Задача 6 - 5 баллов\n",
    "* Задача 7 - 4 балла\n",
    "* Задача 8<font size=\"5\" color=\"red\">\\*</font> - 4 балла\n",
    "* Задача 9<font size=\"5\" color=\"red\">\\*</font> - 10 баллов"
   ]
  },
  {
   "cell_type": "code",
   "execution_count": 414,
   "metadata": {
    "collapsed": false,
    "deletable": true,
    "editable": true
   },
   "outputs": [],
   "source": [
    "import numpy as np\n",
    "import scipy.stats as sps\n",
    "import pandas as pd\n",
    "import matplotlib.pyplot as plt\n",
    "import scipy.linalg\n",
    "import sklearn\n",
    "import sklearn.cross_validation\n",
    "from IPython.display import display, HTML"
   ]
  },
  {
   "cell_type": "markdown",
   "metadata": {
    "deletable": true,
    "editable": true
   },
   "source": [
    "## 1. Линейная регрессия"
   ]
  },
  {
   "cell_type": "markdown",
   "metadata": {
    "deletable": true,
    "editable": true
   },
   "source": [
    "**Задача 1.** По шаблону напишите класс, реализующий линейную регрессию. Интерфейс этого класса в некоторой степени соответствует классу <a href=\"http://scikit-learn.org/stable/modules/generated/sklearn.linear_model.LinearRegression.html#sklearn.linear_model.LinearRegression\">`LinearRegression`</a> из библиотеки `sklearn`."
   ]
  },
  {
   "cell_type": "code",
   "execution_count": 169,
   "metadata": {
    "collapsed": false,
    "deletable": true,
    "editable": true
   },
   "outputs": [
    {
     "name": "stdout",
     "output_type": "stream",
     "text": [
      "[ 0.33333333  1.33333333]\n",
      "1.33333333333\n",
      "[[-11.64619138  12.31285804]\n",
      " [-10.64619138  13.31285804]]\n",
      "3 2\n",
      "[[ 0.66666667 -0.33333333]\n",
      " [-0.33333333  0.66666667]]\n"
     ]
    }
   ],
   "source": [
    "X = np.array([\n",
    "    [1., 0],\n",
    "    [0, 1.],\n",
    "    [1., 1.]\n",
    "])\n",
    "\n",
    "Y = np.array([1., 2., 1.])\n",
    "class fool:\n",
    "    pass\n",
    "alpha = 0.95\n",
    "self = fool\n",
    "self.n, self.k = X.shape\n",
    "\n",
    "self.theta = np.linalg.inv(X.T @ X) @ (X.T) @ Y\n",
    "    # МНК-оценка = (Z.T * Z)^-1 * Z.T * Y\n",
    "\n",
    "vector = Y - X @ self.theta\n",
    "self.sigma_sq = 1. / (self.n - self.k) * (vector @ vector.T)\n",
    "    # несмещенная оценка для sigma^2 = 1 / (n - k) * || Y - X * self.theta || ^2 \n",
    "\n",
    "a = np.linalg.inv(X.T @ X)\n",
    "u_upper = sps.t.ppf((1. + alpha) / 2., self.n - self.k)\n",
    "u_lower = sps.t.ppf((1. - alpha) / 2., self.n - self.k)\n",
    "ci = [\n",
    "    [self.theta[i] - np.sqrt(a[i][i] * self.sigma_sq) * u_upper,\n",
    "     self.theta[i] - np.sqrt(a[i][i] * self.sigma_sq) * u_lower]\n",
    "    for i in range(self.k)\n",
    "]\n",
    "self.conf_int = np.array(ci)\n",
    "    # (\\theta_i - sqrt(a_{i,i} * self.sigma_sq) * U_{(1+alpha)/2},\n",
    "    #   \\theta_i - sqrt(a_{i,i} * self.sigma_sq) * U_{(1-alpha)/2})\n",
    "    #доверительные интервалы для коэффициентов (матрица размера k x 2)\n",
    "print(self.theta)\n",
    "print(self.sigma_sq)\n",
    "print(self.conf_int)\n",
    "print(self.n, self.k)\n",
    "print(a)"
   ]
  },
  {
   "cell_type": "code",
   "execution_count": 170,
   "metadata": {
    "collapsed": true,
    "deletable": true,
    "editable": true
   },
   "outputs": [],
   "source": [
    "class LinearRegression:\n",
    "    def __init__(self):\n",
    "        super()\n",
    "        \n",
    "    def fit(self, X, Y, alpha=0.95):\n",
    "        ''' Обучение модели. Предполагается модель Y = X * theta + epsilon, \n",
    "            где X --- регрессор, Y --- отклик,\n",
    "            а epsilon имеет нормальное распределение с параметрами N(0, sigma^2 * I_n).\n",
    "            alpha --- уровень доверия для доверительного интервала.\n",
    "        '''\n",
    "        \n",
    "        self.n, self.k = X.shape\n",
    "\n",
    "        self.theta = np.linalg.inv(X.T @ X) @ (X.T) @ Y\n",
    "            # МНК-оценка = (Z.T * Z)^-1 * Z.T * Y\n",
    "\n",
    "        vector = Y - X @ self.theta\n",
    "        self.sigma_sq = 1. / (self.n - self.k) * (vector @ vector.T)\n",
    "            # несмещенная оценка для sigma^2 = 1 / (n - k) * || Y - X * self.theta || ^2 \n",
    "\n",
    "        a = np.linalg.inv(X.T @ X)\n",
    "        u_upper = sps.t.ppf((1. + alpha) / 2., self.n - self.k)\n",
    "        u_lower = sps.t.ppf((1. - alpha) / 2., self.n - self.k)\n",
    "        ci = [\n",
    "            [self.theta[i] - np.sqrt(a[i][i] * self.sigma_sq) * u_upper,\n",
    "             self.theta[i] - np.sqrt(a[i][i] * self.sigma_sq) * u_lower]\n",
    "            for i in range(self.k)\n",
    "        ]\n",
    "        self.conf_int = np.array(ci)\n",
    "        \n",
    "        return self\n",
    "    \n",
    "    def summary(self):\n",
    "        print('Linear regression on %d features and %d examples' % (self.k, self.n))\n",
    "        print('Sigma: %.6f' % self.sigma_sq)\n",
    "        print('\\t\\tLower\\t\\tEstimation\\tUpper')\n",
    "        for j in range(self.k):\n",
    "            print('theta_%d:\\t%.6f\\t%.6f\\t%.6f' % (j, self.conf_int[j, 0], \n",
    "                                                   self.theta[j], self.conf_int[j, 1]))\n",
    "        \n",
    "    def predict(self, X):\n",
    "        ''' Возвращает предсказание отклика на новых объектах X. '''\n",
    "        \n",
    "        Y_pred = X @ self.theta\n",
    "        return Y_pred"
   ]
  },
  {
   "cell_type": "code",
   "execution_count": 171,
   "metadata": {
    "collapsed": false,
    "deletable": true,
    "editable": true
   },
   "outputs": [
    {
     "name": "stdout",
     "output_type": "stream",
     "text": [
      "Linear regression on 2 features and 3 examples\n",
      "Sigma: 1.333333\n",
      "\t\tLower\t\tEstimation\tUpper\n",
      "theta_0:\t-11.646191\t0.333333\t12.312858\n",
      "theta_1:\t-10.646191\t1.333333\t13.312858\n",
      "[  7.           9.66666667  10.33333333]\n",
      "[ -1.00000000e+00   3.39934989e-16]\n",
      "[-7. -7. -5.]\n"
     ]
    }
   ],
   "source": [
    "Z = np.array([[9., 3.], [9., 5.], [7.,6.]])\n",
    "LR = LinearRegression()\n",
    "LR.fit(X=X, Y=Y)\n",
    "LR.summary()\n",
    "print(LR.predict(Z))\n",
    "\n",
    "import sklearn.linear_model\n",
    "SLR = sklearn.linear_model.LinearRegression()\n",
    "SLR.fit(X=X,y=Y)\n",
    "print(SLR.coef_)\n",
    "print(SLR.predict(Z))"
   ]
  },
  {
   "cell_type": "markdown",
   "metadata": {
    "deletable": true,
    "editable": true
   },
   "source": [
    "Загрузите данные о потреблении мороженного в зависимости от температуры воздуха и цены (файл `ice_cream.txt`).\n",
    "Примените реализованный выше класс линейной регрессии к этим данным предполагая, что модель имеет вид $ic = \\theta_1 + \\theta_2\\ t$, где $t$ --- температура воздуха (столбец `temp`), $ic$ --- постребление мороженного в литрах на человека (столбец `IC`).\n",
    "Значения температуры предварительно переведите из Фаренгейта в Цельсий [(Фаренгейт — 32) / 1,8 = Цельсий].\n",
    "\n",
    "К обученной модели примените фунцию `summary` и постройте график регрессии, то есть график прямой $ic = \\widehat{\\theta}_1 + \\widehat{\\theta}_2\\ t$, где $\\widehat{\\theta}_1, \\widehat{\\theta}_2$ --- МНК-оценки коэффициентов.\n",
    "На график нанесите точки выборки.\n",
    "Убедитесь, что построейнный график совпадает с графиком из презентации с первой лекции, правда, с точностью до значений температура (она была неправильно переведена из Фаренгейта в Цельсий)."
   ]
  },
  {
   "cell_type": "code",
   "execution_count": 280,
   "metadata": {
    "collapsed": false,
    "deletable": true,
    "editable": true
   },
   "outputs": [
    {
     "name": "stdout",
     "output_type": "stream",
     "text": [
      "    date     IC  price  income  temp  Lag-temp  Year\n",
      "0      1  0.386  0.270      78    41        56     0\n",
      "1      2  0.374  0.282      79    56        63     0\n",
      "2      3  0.393  0.277      81    63        68     0\n",
      "3      4  0.425  0.280      80    68        69     0\n",
      "4      5  0.406  0.272      76    69        65     0\n",
      "5      6  0.344  0.262      78    65        61     0\n",
      "6      7  0.327  0.275      82    61        47     0\n",
      "7      8  0.288  0.267      79    47        32     0\n",
      "8      9  0.269  0.265      76    32        24     0\n",
      "9     10  0.256  0.277      79    24        28     0\n",
      "10    11  0.286  0.282      82    28        26     1\n",
      "11    12  0.298  0.270      85    26        32     1\n",
      "12    13  0.329  0.272      86    32        40     1\n",
      "13    14  0.318  0.287      83    40        55     1\n",
      "14    15  0.381  0.277      84    55        63     1\n",
      "15    16  0.381  0.287      82    63        72     1\n",
      "16    17  0.470  0.280      80    72        72     1\n",
      "17    18  0.443  0.277      78    72        67     1\n",
      "18    19  0.386  0.277      84    67        60     1\n",
      "19    20  0.342  0.277      86    60        44     1\n",
      "20    21  0.319  0.292      85    44        40     1\n",
      "21    22  0.307  0.287      87    40        32     1\n",
      "22    23  0.284  0.277      94    32        27     1\n",
      "23    24  0.326  0.285      92    27        28     2\n",
      "24    25  0.309  0.282      95    28        33     2\n",
      "25    26  0.359  0.265      96    33        41     2\n",
      "26    27  0.376  0.265      94    41        52     2\n",
      "27    28  0.416  0.265      96    52        64     2\n",
      "28    29  0.437  0.268      91    64        71     2\n",
      "29    30  0.548  0.260      90    71         0     2\n",
      "[[  1.           1.           1.           1.           1.           1.\n",
      "    1.           1.           1.           1.           1.           1.\n",
      "    1.           1.           1.           1.           1.           1.\n",
      "    1.           1.           1.           1.           1.           1.\n",
      "    1.           1.           1.           1.           1.           1.        ]\n",
      " [  5.          13.33333333  17.22222222  20.          20.55555556\n",
      "   18.33333333  16.11111111   8.33333333   0.          -4.44444444\n",
      "   -2.22222222  -3.33333333   0.           4.44444444  12.77777778\n",
      "   17.22222222  22.22222222  22.22222222  19.44444444  15.55555556\n",
      "    6.66666667   4.44444444   0.          -2.77777778  -2.22222222\n",
      "    0.55555556   5.          11.11111111  17.77777778  21.66666667]]\n",
      "[ 0.386  0.374  0.393  0.425  0.406  0.344  0.327  0.288  0.269  0.256\n",
      "  0.286  0.298  0.329  0.318  0.381  0.381  0.47   0.443  0.386  0.342\n",
      "  0.319  0.307  0.284  0.326  0.309  0.359  0.376  0.416  0.437  0.548]\n"
     ]
    }
   ],
   "source": [
    "df = pd.read_csv(\"ice_cream.txt\", sep=\"\\t\")\n",
    "Y = df.IC.values\n",
    "temp = df.temp.values\n",
    "temp = (temp - 32) / 1.8\n",
    "X = np.array([np.ones(temp.size), temp]).T\n",
    "print(df)\n",
    "print(X.T)\n",
    "print(Y)"
   ]
  },
  {
   "cell_type": "code",
   "execution_count": 185,
   "metadata": {
    "collapsed": false,
    "deletable": true,
    "editable": true,
    "scrolled": false
   },
   "outputs": [
    {
     "name": "stdout",
     "output_type": "stream",
     "text": [
      "Linear regression on 2 features and 30 examples\n",
      "Sigma: 0.001786\n",
      "\t\tLower\t\tEstimation\tUpper\n",
      "theta_0:\t0.283276\t0.306298\t0.329319\n",
      "theta_1:\t0.003831\t0.005593\t0.007355\n"
     ]
    }
   ],
   "source": [
    "LR = LinearRegression()\n",
    "LR.fit(X=X, Y=Y)\n",
    "LR.summary()"
   ]
  },
  {
   "cell_type": "code",
   "execution_count": 186,
   "metadata": {
    "collapsed": false,
    "deletable": true,
    "editable": true
   },
   "outputs": [
    {
     "data": {
      "image/png": "[encoded data removed]",
      "text/plain": [
       "<matplotlib.figure.Figure at 0x7fd4cedcdb70>"
      ]
     },
     "metadata": {},
     "output_type": "display_data"
    },
    {
     "name": "stdout",
     "output_type": "stream",
     "text": [
      "Linear regression on 2 features and 30 examples\n",
      "Sigma: 0.001786\n",
      "\t\tLower\t\tEstimation\tUpper\n",
      "theta_0:\t0.283276\t0.306298\t0.329319\n",
      "theta_1:\t0.003831\t0.005593\t0.007355\n"
     ]
    }
   ],
   "source": [
    "grid = np.linspace(-10., 40, 1000)\n",
    "X = X_cn_2 = np.array([np.ones(grid.size), grid]).T\n",
    "ic = LR.predict(X)\n",
    "\n",
    "plt.figure(figsize=(14,7))\n",
    "plt.title(\"icecream plot\")\n",
    "plt.plot(grid, ic, label=\"ic\", color=\"red\")\n",
    "plt.scatter(temp, df.IC.values, label=\"data_frame\")\n",
    "plt.xlabel(\"t\")\n",
    "plt.legend()\n",
    "plt.grid()\n",
    "plt.show()\n",
    "\n",
    "LR.summary()"
   ]
  },
  {
   "cell_type": "markdown",
   "metadata": {
    "deletable": true,
    "editable": true
   },
   "source": [
    "Теперь учтите влияние года (столбец `Year`) для двух случаев:\n",
    "* модель $ic = \\theta_1 + \\theta_2\\ t + \\theta_3 y_1 + \\theta_4 y_2$, где $y_1 = I\\{1\\ год\\}, y_2 = I\\{2\\ год\\}$. Поясните, почему нельзя рассмативать одну переменную $y$ --- номер года.\n",
    "* для каждого года рассматривается своя линейная зависимость $ic = \\theta_1 + \\theta_2\\ t$.\n",
    "\n",
    "В каждом случае нарисуйте графики. Отличаются ли полученные результаты? От чего это зависит? Как зависит потребление мороженного от года? "
   ]
  },
  {
   "cell_type": "markdown",
   "metadata": {
    "deletable": true,
    "editable": true
   },
   "source": [
    "**Комментарий:** Использование одной переменной для номера года означало бы, что мало того, что в разные годы один и тот же коэффициент, так ещё и потребление мороженного линейно (как $ic = C(t) + k y$) зависит от номера года(в произвольной системе отсчёта), что совершенно не верно. Разумно ввести три константы для трёх лет, но при этом можно вычесть константу для нулевого года из двух других, прибавить в $\\theta_1$  и считать, что константа нулевого года равна нулю "
   ]
  },
  {
   "cell_type": "code",
   "execution_count": 187,
   "metadata": {
    "collapsed": false,
    "deletable": true,
    "editable": true
   },
   "outputs": [
    {
     "name": "stdout",
     "output_type": "stream",
     "text": [
      "    date     IC  price  income  temp  Lag-temp  Year=0  Year=1  Year=2\n",
      "0      1  0.386  0.270      78    41        56       1       0       0\n",
      "1      2  0.374  0.282      79    56        63       1       0       0\n",
      "2      3  0.393  0.277      81    63        68       1       0       0\n",
      "3      4  0.425  0.280      80    68        69       1       0       0\n",
      "4      5  0.406  0.272      76    69        65       1       0       0\n",
      "5      6  0.344  0.262      78    65        61       1       0       0\n",
      "6      7  0.327  0.275      82    61        47       1       0       0\n",
      "7      8  0.288  0.267      79    47        32       1       0       0\n",
      "8      9  0.269  0.265      76    32        24       1       0       0\n",
      "9     10  0.256  0.277      79    24        28       1       0       0\n",
      "10    11  0.286  0.282      82    28        26       0       1       0\n",
      "11    12  0.298  0.270      85    26        32       0       1       0\n",
      "12    13  0.329  0.272      86    32        40       0       1       0\n",
      "13    14  0.318  0.287      83    40        55       0       1       0\n",
      "14    15  0.381  0.277      84    55        63       0       1       0\n",
      "15    16  0.381  0.287      82    63        72       0       1       0\n",
      "16    17  0.470  0.280      80    72        72       0       1       0\n",
      "17    18  0.443  0.277      78    72        67       0       1       0\n",
      "18    19  0.386  0.277      84    67        60       0       1       0\n",
      "19    20  0.342  0.277      86    60        44       0       1       0\n",
      "20    21  0.319  0.292      85    44        40       0       1       0\n",
      "21    22  0.307  0.287      87    40        32       0       1       0\n",
      "22    23  0.284  0.277      94    32        27       0       1       0\n",
      "23    24  0.326  0.285      92    27        28       0       0       1\n",
      "24    25  0.309  0.282      95    28        33       0       0       1\n",
      "25    26  0.359  0.265      96    33        41       0       0       1\n",
      "26    27  0.376  0.265      94    41        52       0       0       1\n",
      "27    28  0.416  0.265      96    52        64       0       0       1\n",
      "28    29  0.437  0.268      91    64        71       0       0       1\n",
      "29    30  0.548  0.260      90    71         0       0       0       1\n"
     ]
    },
    {
     "data": {
      "text/plain": [
       "<__main__.LinearRegression at 0x7fd4ced8deb8>"
      ]
     },
     "execution_count": 187,
     "metadata": {},
     "output_type": "execute_result"
    }
   ],
   "source": [
    "df2 = df[[\"date\", \"IC\", \"price\", \"income\", \"temp\", \"Lag-temp\"]]\n",
    "for y in [0, 1, 2]:\n",
    "    df2[\"Year=%d\" % (y)] =  1 * (df.Year.values == y)\n",
    "print(df2)\n",
    "\n",
    "\n",
    "X = np.array(\n",
    "    [np.ones(temp.size), temp, df2[\"Year=1\"].values, df2[\"Year=2\"].values]\n",
    ").T\n",
    "Y = df.IC.values\n",
    "LR = LinearRegression()\n",
    "LR.fit(X=X, Y=Y)"
   ]
  },
  {
   "cell_type": "code",
   "execution_count": 188,
   "metadata": {
    "collapsed": false,
    "deletable": true,
    "editable": true
   },
   "outputs": [
    {
     "data": {
      "image/png": "[encoded data removed]",
      "text/plain": [
       "<matplotlib.figure.Figure at 0x7fd4cec191d0>"
      ]
     },
     "metadata": {},
     "output_type": "display_data"
    }
   ],
   "source": [
    "def plot(LR):\n",
    "    grid = np.linspace(-10., 40, 1000)\n",
    "\n",
    "    X_year_0 = np.array([np.ones(grid.size), grid, np.zeros(grid.size), np.zeros(grid.size)]).T\n",
    "    X_year_1 = np.array([np.ones(grid.size), grid, np.ones(grid.size), np.zeros(grid.size)]).T\n",
    "    X_year_2 = np.array([np.ones(grid.size), grid, np.zeros(grid.size), np.ones(grid.size)]).T\n",
    "\n",
    "    df_year = np.array([\n",
    "        np.array([[temp[i], df.IC[i]] for i in range(temp.size) if df.Year[i] == y])\n",
    "        for y in [0, 1, 2]\n",
    "    ])\n",
    "    plt.figure(figsize=(14,7))\n",
    "    plt.scatter((df_year[0]).T[0], (df_year[0]).T[1], color=\"blue\", label=\"df year 0\")\n",
    "    plt.scatter((df_year[1]).T[0], (df_year[1]).T[1], color=\"red\", label=\"df year 1\")\n",
    "    plt.scatter((df_year[2]).T[0], (df_year[2]).T[1], color=\"green\", label=\"df year 2\")\n",
    "\n",
    "    plt.plot(grid, LR.predict(X_year_0), color=\"blue\", label=\"predict year 0\")\n",
    "    plt.plot(grid, LR.predict(X_year_1), color=\"red\", label=\"predict year 1\")\n",
    "    plt.plot(grid, LR.predict(X_year_2), color=\"green\", label=\"predict year 2\")\n",
    "    plt.ylabel(\"ic\")\n",
    "    plt.xlabel(\"t\")\n",
    "    plt.legend()\n",
    "    plt.grid()\n",
    "    plt.show()\n",
    "    \n",
    "plot(LR)"
   ]
  },
  {
   "cell_type": "markdown",
   "metadata": {
    "deletable": true,
    "editable": true
   },
   "source": [
    "**Комментарий:** полученные данные для годов отличаются на константу: т.е. изменение потребления при изменении на градус не изменилась, но констата в уравнении прямой увеличилась. (т.е. меняется параметр $\\theta_1$ от года, тогда как $\\theta_2$ остаётся постоянным). (Собственно, что и описано в модели)"
   ]
  },
  {
   "cell_type": "markdown",
   "metadata": {
    "deletable": true,
    "editable": true
   },
   "source": [
    "Наконец, обучите модель на предсказание потребления мороженного в зависимости от всех переменных.\n",
    "Не забудьте, что для года нужно ввести две переменных.\n",
    "Для полученной модели выведите `summary`."
   ]
  },
  {
   "cell_type": "markdown",
   "metadata": {
    "deletable": true,
    "editable": true
   },
   "source": [
    "**Комментарий:** если мы обучим модель от всех переменных, т.е. будем предсказывать IC по данным, содержащим IC, то придёт Виктор Кантор и начнёт рассказывать историю про танки"
   ]
  },
  {
   "cell_type": "code",
   "execution_count": 189,
   "metadata": {
    "collapsed": false,
    "deletable": true,
    "editable": true
   },
   "outputs": [
    {
     "name": "stdout",
     "output_type": "stream",
     "text": [
      "Linear regression on 9 features and 30 examples\n",
      "Sigma: 0.000000\n",
      "\t\tLower\t\tEstimation\tUpper\n",
      "theta_0:\t-0.000000\t-0.000000\t0.000000\n",
      "theta_1:\t1.000000\t1.000000\t1.000000\n",
      "theta_2:\t-0.000000\t-0.000000\t0.000000\n",
      "theta_3:\t-0.000000\t0.000000\t0.000000\n",
      "theta_4:\t-0.000000\t-0.000000\t0.000000\n",
      "theta_5:\t-0.000000\t-0.000000\t0.000000\n",
      "theta_6:\t-0.000000\t-0.000000\t0.000000\n",
      "theta_7:\t-0.000000\t-0.000000\t0.000000\n",
      "theta_8:\t-0.000000\t-0.000000\t0.000000\n"
     ]
    }
   ],
   "source": [
    "LG = LinearRegression()\n",
    "LG.fit(X=df2.values, Y=df2.IC.values)\n",
    "LG.summary()"
   ]
  },
  {
   "cell_type": "markdown",
   "metadata": {
    "deletable": true,
    "editable": true
   },
   "source": [
    "**Комментарий:** Как мы видим, модель оказалась достаточно умна, чтобы понять, что прогнозируемые данные есть в выборке. Обучим модель теперь нормально"
   ]
  },
  {
   "cell_type": "code",
   "execution_count": 190,
   "metadata": {
    "collapsed": false,
    "deletable": true,
    "editable": true
   },
   "outputs": [
    {
     "name": "stdout",
     "output_type": "stream",
     "text": [
      "Linear regression on 7 features and 30 examples\n",
      "Sigma: 0.000961\n",
      "\t\tLower\t\tEstimation\tUpper\n",
      "theta_0:\t-0.009674\t-0.005242\t-0.000809\n",
      "theta_1:\t-0.631974\t0.459136\t1.550245\n",
      "theta_2:\t-0.002855\t0.000845\t0.004545\n",
      "theta_3:\t0.003089\t0.004105\t0.005122\n",
      "theta_4:\t-0.001544\t-0.000636\t0.000271\n",
      "theta_5:\t0.014490\t0.070345\t0.126200\n",
      "theta_6:\t0.076402\t0.175412\t0.274423\n"
     ]
    }
   ],
   "source": [
    "X = df2[[\"date\", \"price\", \"income\", \"temp\", \"Lag-temp\", \"Year=1\", \"Year=2\"]].values\n",
    "Y = df2.IC.values\n",
    "LG = LinearRegression()\n",
    "LG.fit(X=X, Y=Y)\n",
    "LG.summary()"
   ]
  },
  {
   "cell_type": "markdown",
   "metadata": {
    "deletable": true,
    "editable": true
   },
   "source": [
    "**Комментарий:** Если мы как-нибудь отнормируем данные - сможем оценивать полезность параметров"
   ]
  },
  {
   "cell_type": "markdown",
   "metadata": {
    "deletable": true,
    "editable": true
   },
   "source": [
    "Но это еще не все.\n",
    "Постройте теперь линейную регрессию для модели $ic = \\theta_1 + \\theta_2\\ t + \\theta_3\\ t^2 + \\theta_4\\ t^3$.\n",
    "Выведите для нее summary и постройте график предсказания, то есть график кривой $ic = \\widehat{\\theta}_1 + \\widehat{\\theta}_2\\ t + \\widehat{\\theta}_3\\ t^2 + \\widehat{\\theta}_4\\ t^3$. Хорошие ли получаются результаты?"
   ]
  },
  {
   "cell_type": "code",
   "execution_count": 192,
   "metadata": {
    "collapsed": false,
    "deletable": true,
    "editable": true
   },
   "outputs": [
    {
     "name": "stdout",
     "output_type": "stream",
     "text": [
      "Linear regression on 4 features and 30 examples\n",
      "Sigma: 0.001529\n",
      "\t\tLower\t\tEstimation\tUpper\n",
      "theta_0:\t0.295294\t0.319902\t0.344510\n",
      "theta_1:\t0.000388\t0.007200\t0.014013\n",
      "theta_2:\t-0.001861\t-0.000855\t0.000152\n",
      "theta_3:\t0.000002\t0.000038\t0.000073\n"
     ]
    },
    {
     "data": {
      "image/png": "[encoded data removed]",
      "text/plain": [
       "<matplotlib.figure.Figure at 0x7fd4ced96b38>"
      ]
     },
     "metadata": {},
     "output_type": "display_data"
    },
    {
     "name": "stdout",
     "output_type": "stream",
     "text": [
      "Linear regression on 4 features and 30 examples\n",
      "Sigma: 0.001529\n",
      "\t\tLower\t\tEstimation\tUpper\n",
      "theta_0:\t0.295294\t0.319902\t0.344510\n",
      "theta_1:\t0.000388\t0.007200\t0.014013\n",
      "theta_2:\t-0.001861\t-0.000855\t0.000152\n",
      "theta_3:\t0.000002\t0.000038\t0.000073\n"
     ]
    }
   ],
   "source": [
    "grid = np.linspace(-10., 30, 1000)\n",
    "X = X_cn =  np.array([np.ones(temp.size), temp, temp**2, temp**3]).T\n",
    "Y = df.IC.values\n",
    "\n",
    "LR = LinearRegression()\n",
    "LR.fit(X=X, Y=Y)\n",
    "LR.summary()\n",
    "\n",
    "grid = np.linspace(-10., 30, 1000)\n",
    "X = np.array([np.ones(grid.size), grid, grid**2, grid**3]).T\n",
    "ic = LR.predict(X)\n",
    "\n",
    "plt.figure(figsize=(14,7))\n",
    "plt.title(\"icecream plot\")\n",
    "plt.plot(grid, ic, label=\"ic\", color=\"red\")\n",
    "plt.scatter(temp, df.IC.values, label=\"data_frame\")\n",
    "plt.xlabel(\"t\")\n",
    "plt.legend()\n",
    "plt.grid()\n",
    "plt.show()\n",
    "\n",
    "LR.summary()"
   ]
  },
  {
   "cell_type": "markdown",
   "metadata": {
    "deletable": true,
    "editable": true
   },
   "source": [
    "**Комментарий:** Получилась оценка, визуально очень крутая. Можно расширить пространство признаков, добавив, например цену, и, возможно, получить очень точные значения"
   ]
  },
  {
   "cell_type": "markdown",
   "metadata": {
    "deletable": true,
    "editable": true
   },
   "source": [
    "Чтобы понять, почему так происходит, выведите значения матрицы $(X^T X)^{-1}$ для данной матрицы и посчитайте для нее индекс обусловленности $\\sqrt{\\left.\\lambda_{max}\\right/\\lambda_{min}}$, где $\\lambda_{max}, \\lambda_{min}$ --- максимальный и минимальный собственные значения матрицы $X^T X$. Собственные значения можно посчитать функцией <a href=\"https://docs.scipy.org/doc/scipy/reference/generated/scipy.linalg.eigvals.html\">`scipy.linalg.eigvals`</a>.\n",
    "\n",
    "Прокомментируйте полученные результаты. Помочь в этом может следующая <a href=\"https://ru.wikipedia.org/wiki/%D0%A7%D0%B8%D1%81%D0%BB%D0%BE_%D0%BE%D0%B1%D1%83%D1%81%D0%BB%D0%BE%D0%B2%D0%BB%D0%B5%D0%BD%D0%BD%D0%BE%D1%81%D1%82%D0%B8\">статья</a>."
   ]
  },
  {
   "cell_type": "code",
   "execution_count": 193,
   "metadata": {
    "collapsed": false,
    "deletable": true,
    "editable": true
   },
   "outputs": [
    {
     "name": "stdout",
     "output_type": "stream",
     "text": [
      "Последний график (c t, t**2, ...)\n",
      "condition_number =  (8140.3947489+0j)\n",
      "Первый график (cамый первый)\n",
      "condition_number =  (30.0570169914+0j)\n"
     ]
    }
   ],
   "source": [
    "def condition_number_calc(X):\n",
    "    eigs = scipy.linalg.eigvals(np.linalg.inv(X.T @ X))\n",
    "    #print(\"eigs = \", eigs)\n",
    "    condition_number = np.sqrt(eigs.max() / eigs.min())\n",
    "    print(\"condition_number = \", condition_number)\n",
    "    \n",
    "\n",
    "print(\"Последний график (c t, t**2, ...)\")\n",
    "condition_number_calc(X_cn)\n",
    "\n",
    "print(\"Первый график (cамый первый)\")\n",
    "condition_number_calc(X_cn_2)"
   ]
  },
  {
   "cell_type": "markdown",
   "metadata": {
    "deletable": true,
    "editable": true
   },
   "source": [
    "** Комментарий: ** (вывод размазан по задаче на комментарии) Здесь (http://www.machinelearning.ru/wiki/index.php?title=%D0%90%D0%BD%D0%B0%D0%BB%D0%B8%D0%B7_%D0%BC%D1%83%D0%BB%D1%8C%D1%82%D0%B8%D0%BA%D0%BE%D0%BB%D0%BB%D0%B8%D0%BD%D0%B5%D0%B0%D1%80%D0%BD%D0%BE%D1%81%D1%82%D0%B8_%28%D0%BF%D1%80%D0%B8%D0%BC%D0%B5%D1%80%29) написано что и почему большое число обусловленности указывает на зависимость близкую к линейной между признаками и чем больше максимальное число обусловленности, тем сильнее зависимость. Т.е. возможно, несмотря на меньшую сигму, такой набор признаков не оптимален."
   ]
  },
  {
   "cell_type": "markdown",
   "metadata": {
    "deletable": true,
    "editable": true
   },
   "source": [
    "**Задача 2.** В данной задаче нужно реализовать функцию отбора признаков для линейной регрессии. Иначе говоря, пусть есть модель $y = \\theta_1 x_1 + ... + \\theta_k x_k$. Нужно определить, какие $\\theta_j$ нужно положить равными нулю, чтобы качество полученной модели было максимальным.\n",
    "\n",
    "Для этого имеющиеся данные нужно случайно разделить на две части --- обучение и тест (train и test). На первой части нужно обучить модель регресии, взяв некоторые из признаков, то есть рассмотреть модель $y = \\theta_{j_1} x_{j_1} + ... + \\theta_{j_s} x_{j_s}$. По второй части нужно посчитать ее качество --- среднеквадратичное отклонение (mean squared error) предсказания от истинного значения отклика, то есть величину\n",
    "$$MSE = \\sum\\limits_{i \\in test} \\left(\\widehat{y}(x_i) - Y_i\\right)^2,$$\n",
    "где $x_i = (x_{i,1}, ..., x_{i,k})$, $Y_i$ --- отклик на объекте $x_i$, а $\\widehat{y}(x)$ --- оценка отклика на объекте $x$.\n",
    "\n",
    "Если $k$ невелико, то подобным образом можно перебрать все поднаборы признаков и выбрать наилучший по значению MSE.\n",
    "\n",
    "Для выполнения задания воспользуйтесь следующими функциями:\n",
    "* <a href=\"http://scikit-learn.org/stable/modules/generated/sklearn.linear_model.LinearRegression.html#sklearn.linear_model.LinearRegression\">`sklearn.linear_model.LinearRegression`</a>\n",
    "--- реализация линейной регрессии. В данной реализации свободный параметр $\\theta_1$ по умолчанию автоматически включается в модель. Отключить это можно с помощью `fit_intercept=False`, но это не нужно. *В данной задаче требуется, чтобы вы воспользовались готовой реализацией линейной регрессии, а не своей. Ведь на практике важно уметь применять готовые реализации, а не писать их самостоятельно.*\n",
    "\n",
    "* <a href=\"http://scikit-learn.org/0.16/modules/generated/sklearn.cross_validation.train_test_split.html\">`sklearn.cross_validation.train_test_split`</a>\n",
    "--- функция разбиения данных на train и test. Установите параметр `test_size=0.3`.\n",
    "\n",
    "* <a href=\"http://scikit-learn.org/stable/modules/generated/sklearn.metrics.mean_squared_error.html\">`sklearn.metrics.mean_squared_error`</a>\n",
    "--- реализация MSE.\n",
    "\n",
    "Для перебора реализуйте функцию."
   ]
  },
  {
   "cell_type": "code",
   "execution_count": 256,
   "metadata": {
    "collapsed": true,
    "deletable": true,
    "editable": true
   },
   "outputs": [],
   "source": [
    "def best_features(X_train, X_test, Y_train, Y_test):\n",
    "    mses = []  # сюда записывайте значения MSE\n",
    "    k = X_train.shape[1]\n",
    "\n",
    "    for j in range(1, 2 ** k):  # номер набора признаков\n",
    "        mask = np.array([j & (1 << s) for s in range(k)], dtype=bool)\n",
    "        features_numbers = np.arange(k)[mask]  # набор признаков\n",
    "        \n",
    "        X_train_cutted = X_train[:, mask]\n",
    "        X_test_cutted = X_test[:, mask]\n",
    "        #print(X_train_cutted[0])\n",
    "        #print(X_train_cutted.shape, X_test_cutted.shape)\n",
    "        regressor = sklearn.linear_model.LinearRegression()\n",
    "        regressor.fit(X=X_train_cutted,y=Y_train)\n",
    "        Y_predicted = regressor.predict(X_test_cutted)\n",
    "        \n",
    "        mse = sklearn.metrics.mean_squared_error(Y_test, Y_predicted)  \n",
    "            # MSE для данного набора признаков\n",
    "        mses.append(mse)\n",
    "        \n",
    "    # Печать 10 лучших наборов\n",
    "    print('mse\\t features')\n",
    "    mses = np.array(mses)\n",
    "    best_numbres = np.argsort(mses)[:10]\n",
    "    for j in best_numbres:\n",
    "        mask = np.array([j & (1 << s) for s in range(k)], dtype=bool)\n",
    "        features_numbers = np.arange(k)[mask]\n",
    "        print('%.3f\\t' % mses[j], features_numbers)"
   ]
  },
  {
   "cell_type": "markdown",
   "metadata": {
    "deletable": true,
    "editable": true
   },
   "source": [
    "Примените реализованный отбор признаков к датасетам\n",
    "* <a href=\"http://archive.ics.uci.edu/ml/datasets/Yacht+Hydrodynamics\">Yacht Hydrodynamics</a> --- для парусных яхт нужно оценить остаточное сопротивление на единицу массы смещения (последний столбец) в зависимости от различных характеристик яхты.\n",
    "\n",
    "* <a href=\"http://scikit-learn.org/stable/modules/generated/sklearn.datasets.load_boston.html#sklearn.datasets.load_boston\">Boston Housing Prices</a> --- цены на дома в Бостоне в зависимости от ряда особенностей."
   ]
  },
  {
   "cell_type": "code",
   "execution_count": 200,
   "metadata": {
    "collapsed": false,
    "deletable": true,
    "editable": true
   },
   "outputs": [
    {
     "name": "stdout",
     "output_type": "stream",
     "text": [
      "--2017-05-20 20:41:29--  http://archive.ics.uci.edu/ml/machine-learning-databases/00243/yacht_hydrodynamics.data\n",
      "Распознаётся archive.ics.uci.edu (archive.ics.uci.edu)... 128.195.10.249\n",
      "Подключение к archive.ics.uci.edu (archive.ics.uci.edu)|128.195.10.249|:80... соединение установлено.\n",
      "HTTP-запрос отправлен. Ожидание ответа... 200 OK\n",
      "Длина: 11487 (11K) [text/plain]\n",
      "Сохранение в каталог: ««yacht_hydrodynamics.data.2»».\n",
      "\n",
      "yacht_hydrodynamics 100%[===================>]  11,22K  --.-KB/s    in 0,004s  \n",
      "\n",
      "2017-05-20 20:41:29 (3,08 MB/s) - «yacht_hydrodynamics.data.2» сохранён [11487/11487]\n",
      "\n"
     ]
    }
   ],
   "source": [
    "!wget http://archive.ics.uci.edu/ml/machine-learning-databases/00243/yacht_hydrodynamics.data"
   ]
  },
  {
   "cell_type": "code",
   "execution_count": 275,
   "metadata": {
    "collapsed": false,
    "deletable": true,
    "editable": true,
    "scrolled": false
   },
   "outputs": [
    {
     "name": "stdout",
     "output_type": "stream",
     "text": [
      "[[ -2.3     0.568   4.78  ...,   3.17    0.125   0.11 ]\n",
      " [ -2.3     0.568   4.78  ...,   3.17    0.15    0.27 ]\n",
      " [ -2.3     0.568   4.78  ...,   3.17    0.175   0.47 ]\n",
      " ..., \n",
      " [ -2.3     0.6     4.34  ...,   2.73    0.4    19.59 ]\n",
      " [ -2.3     0.6     4.34  ...,   2.73    0.425  30.48 ]\n",
      " [ -2.3     0.6     4.34  ...,   2.73    0.45   46.66 ]] (308, 7)\n",
      "(308, 6) (308,)\n",
      "Run 0:\n",
      "mse\t features\n",
      "83.212\t [0 1 2 5]\n",
      "83.220\t [0 1 2 4 5]\n",
      "83.253\t [0 1 2 3 4]\n",
      "83.291\t [3 5]\n",
      "83.291\t [0 1 2 3 5]\n",
      "83.300\t [3 4 5]\n",
      "83.321\t [0 1 3 5]\n",
      "83.333\t [5]\n",
      "83.374\t [4 5]\n",
      "83.390\t [2 3 5]\n",
      "Run 1:\n",
      "mse\t features\n",
      "75.028\t [0 5]\n",
      "75.175\t [0 1 2 3 4]\n",
      "75.224\t [0 2 5]\n",
      "75.348\t [0 1 5]\n",
      "75.699\t [0 1 2 5]\n",
      "76.000\t [0 3 5]\n",
      "76.200\t [0 1 3 5]\n",
      "76.724\t [0 2 3 5]\n",
      "77.039\t [0 4 5]\n",
      "77.043\t [0 1 2 4 5]\n",
      "Run 2:\n",
      "mse\t features\n",
      "70.222\t [0 1 2 3 4]\n",
      "70.294\t [0 1 2 3 5]\n",
      "70.569\t [0 1 2 5]\n",
      "70.613\t [0 1 3 4 5]\n",
      "70.651\t [0 1 5]\n",
      "70.702\t [0 1 4 5]\n",
      "70.742\t [0 1 3 5]\n",
      "70.811\t [0 1 2 4 5]\n",
      "70.928\t [0 5]\n",
      "71.029\t [0 3 5]\n"
     ]
    }
   ],
   "source": [
    "df = pd.read_fwf(\"yacht_hydrodynamics.data\", sep=' ', header=None)\n",
    "print(df.values, df.values.shape) # we just removed \"\\n\" from\n",
    "X = df.values[:, 0:6]\n",
    "Y = df.values[:, 6]\n",
    "print(X.shape, Y.shape) #, X, Y)\n",
    "for i in range(3):\n",
    "    print(\"Run %d:\" % (i))\n",
    "    X_train, X_test, Y_train, Y_test = sklearn.cross_validation.train_test_split(X, Y, test_size=0.3)\n",
    "    best_features(X_train, X_test, Y_train, Y_test)"
   ]
  },
  {
   "cell_type": "code",
   "execution_count": 272,
   "metadata": {
    "collapsed": false,
    "deletable": true,
    "editable": true
   },
   "outputs": [
    {
     "name": "stdout",
     "output_type": "stream",
     "text": [
      "Run 0:\n",
      "mse\t features\n",
      "23.439\t [ 1  4  5  7  8 10 11 12]\n",
      "23.440\t [ 1  4  5  6  7  8 10 11 12]\n",
      "23.702\t [ 1  3  4  5  7  8 10 11 12]\n",
      "23.703\t [ 1  3  4  5  6  7  8 10 11 12]\n",
      "23.719\t [ 4  5  7  8 10 11 12]\n",
      "23.735\t [ 4  5  6  7  8 10 11 12]\n",
      "23.882\t [ 1  4  5  6  7  9 10 11 12]\n",
      "23.883\t [ 1  4  5  6  7 10 11 12]\n",
      "23.885\t [ 1  4  5  7  9 10 11 12]\n",
      "23.886\t [ 1  4  5  7 10 11 12]\n",
      "Run 1:\n",
      "mse\t features\n",
      "31.258\t [ 0  2  3  4  5  7  8  9 10 11 12]\n",
      "31.262\t [ 1  2  3  4  5  7  8  9 10 11 12]\n",
      "31.276\t [ 1  3  4  5  7  8  9 10 11 12]\n",
      "31.290\t [ 0  3  4  5  7  8  9 10 11 12]\n",
      "31.746\t [ 0  3  4  5  7  8 10 11 12]\n",
      "31.785\t [ 1  3  4  5  7  8 10 11 12]\n",
      "31.854\t [ 0  2  3  4  5  7  8 10 11 12]\n",
      "31.890\t [ 1  2  3  4  5  7  8 10 11 12]\n",
      "31.955\t [ 1  2  4  5  7  8  9 10 11 12]\n",
      "31.992\t [ 1  4  5  7  8  9 10 11 12]\n",
      "Run 2:\n",
      "mse\t features\n",
      "21.954\t [ 1  3  4  5  6  7  8 10 11]\n",
      "22.048\t [ 1  2  3  4  5  6  7  8 10 11]\n",
      "22.152\t [ 1  3  4  5  6  7 10 11]\n",
      "22.158\t [ 1  3  4  5  6  7  8  9 10 11]\n",
      "22.190\t [ 1  3  4  5  6  7  9 10 11]\n",
      "22.201\t [ 1  3  4  5  7  8  9 10 11 12]\n",
      "22.234\t [ 1  2  3  4  5  6  7  8  9 10 11]\n",
      "22.243\t [ 1  2  3  4  5  7  8  9 10 11 12]\n",
      "22.258\t [ 1  3  4  5  6  7  8  9 10 11 12]\n",
      "22.275\t [ 1  2  3  4  5  6  7  9 10 11]\n"
     ]
    }
   ],
   "source": [
    "from sklearn.datasets import load_boston\n",
    "boston = load_boston()\n",
    "#print(boston.data, boston.data.shape)\n",
    "\n",
    "for i in range(3):\n",
    "    print(\"Run %d:\" % (i))\n",
    "    X_train, X_test, Y_train, Y_test = (\n",
    "        sklearn.cross_validation.train_test_split(boston.data, boston.target, test_size=0.3) #, random_state=17)\n",
    "    )\n",
    "    best_features(X_train, X_test, Y_train, Y_test)"
   ]
  },
  {
   "cell_type": "markdown",
   "metadata": {
    "deletable": true,
    "editable": true
   },
   "source": [
    "** Вывод: ** Мы смогли выделить несколько признаков, оказавшихся лучшими. Хорошей идеей является множественный запуск, т.к. такой \"рейтинг признаков\" весьма случаен и может вызван \"удачным\" разделением на _test и _train, т.е. первый признак в списке может не являться действительно хорошим."
   ]
  },
  {
   "cell_type": "markdown",
   "metadata": {
    "deletable": true,
    "editable": true
   },
   "source": [
    "**Задача 3<font size=\"5\" color=\"red\">\\*</font>.** Загрузите <a href=\"http://people.sc.fsu.edu/~jburkardt/datasets/regression/x01.txt\">датасет</a>, в котором показана зависимость веса мозга от веса туловища для некоторых видов млекопитающих. Задача состоит в том, чтобы подобрать по этим данным хорошую модель регрессии. Для этого, можно попробовать взять некоторые функции от значения веса туловища, например, степенную, показательную, логарифмическую. Можно также сделать преобразование значений веса мозга, например, прологарифмировать. Кроме того, можно разбить значения веса туловища на несколько частей и на каждой части строить свою модель линейной регрессии."
   ]
  },
  {
   "cell_type": "markdown",
   "metadata": {
    "deletable": true,
    "editable": true
   },
   "source": [
    "**Задача 4.** Пусть $X_1, ..., X_n$ --- выборка из распределения $\\mathcal{N}(a, \\sigma^2)$. Постройте точную доверительную **область?** для параметра $\\theta = (a, \\sigma^2)$ уровня доверия $\\alpha=0.95$ для сгенерированной выборки размера $n \\in \\{5, 20, 50\\}$ из стандартного нормального распределения. Какой вывод можно сделать?"
   ]
  },
  {
   "cell_type": "markdown",
   "metadata": {
    "deletable": true,
    "editable": true
   },
   "source": [
    "________________________\n",
    "Построим сначала доверительные интервалы для параметров, всё-таки области мы не строили и это что-то новое\n",
    "________________________\n",
    "$\\forall i :X_i \\sim \\mathcal{N}(a, \\sigma^2) \\Rightarrow \\forall i X_i  = 1 \\cdot a + \\xi, \\xi \\sim \\mathcal{N}(0,\\sigma^2) \\Rightarrow$ это же задача линейной гауссовской регрессионной модели!\n",
    "\n",
    "Более того, это задача 9.4 из домашнего задания из \"методички\" и она разобрана как задача 9.2 в теоретической части. Мы уже строили доверительные интервалы для theta из линейной регрессии, так что для оценки $a \\equiv \\theta_0$ вызовем написанный класс"
   ]
  },
  {
   "cell_type": "markdown",
   "metadata": {
    "deletable": true,
    "editable": true
   },
   "source": [
    "Для оценки $\\sigma^2$ (построения доверительного интервала) используем интервал $(0, \\frac{(n-k)\\widehat{\\sigma}^2}{z_{1-\\gamma}})$ уровня доверия $\\gamma$, где $z_{1-\\gamma}$ - $\\gamma$-квантиль распределения $\\chi^2_{n-k}$ (это доказано в методичке в задаче 9.2)"
   ]
  },
  {
   "cell_type": "code",
   "execution_count": 306,
   "metadata": {
    "collapsed": false,
    "deletable": true,
    "editable": true
   },
   "outputs": [
    {
     "name": "stdout",
     "output_type": "stream",
     "text": [
      "\n",
      "_____Run:(n = 5) (a == \\theta_0)_________\n",
      "Linear regression on 1 features and 5 examples\n",
      "Sigma: 0.230079\n",
      "\t\tLower\t\tEstimation\tUpper\n",
      "theta_0:\t-0.818595\t-0.223011\t0.372573\n",
      "Confidence interval for \\widehat{\\sigma}^2:\n",
      "(0, 1.294904)\n",
      "\n",
      "_____Run:(n = 20) (a == \\theta_0)_________\n",
      "Linear regression on 1 features and 20 examples\n",
      "Sigma: 0.843730\n",
      "\t\tLower\t\tEstimation\tUpper\n",
      "theta_0:\t-0.503770\t-0.073877\t0.356017\n",
      "Confidence interval for \\widehat{\\sigma}^2:\n",
      "(0, 1.584546)\n",
      "\n",
      "_____Run:(n = 50) (a == \\theta_0)_________\n",
      "Linear regression on 1 features and 50 examples\n",
      "Sigma: 0.805630\n",
      "\t\tLower\t\tEstimation\tUpper\n",
      "theta_0:\t-0.514836\t-0.259749\t-0.004663\n",
      "Confidence interval for \\widehat{\\sigma}^2:\n",
      "(0, 1.163440)\n"
     ]
    }
   ],
   "source": [
    "alpha = 0.95\n",
    "for n in [5, 20, 50]:\n",
    "    print(\"\\n_____Run:(n = %d) (a == \\\\theta_0)_________\" %  n)\n",
    "    Y = sps.norm.rvs(size=n)\n",
    "    LR = LinearRegression()\n",
    "    LR.fit(X=np.array(np.array([np.ones(n)]).T), Y=Y,alpha=alpha)\n",
    "    LR.summary()\n",
    "\n",
    "    print(\"Confidence interval for \\widehat{\\sigma}^2:\")\n",
    "\n",
    "    z = sps.chi2.ppf(1. - alpha, LR.n - LR.k)\n",
    "    sigma_upper = (LR.n - LR.k) * LR.sigma_sq / z\n",
    "    print(\"(0, %f)\" % sigma_upper)"
   ]
  },
  {
   "cell_type": "markdown",
   "metadata": {
    "deletable": true,
    "editable": true
   },
   "source": [
    "______________\n",
    "Если всё-таки требуются области то, случайно, открыв книгу \"Ллойд Э., Ледерман У. (ред.). Справочник по прикладной статистике. Том 1. М.: Финансы и статистика, 1989. - 510 с. \" на 182ой странице, увидим там доверительный интервал для двумерного параметра:\n",
    "$\n",
    "\\begin{equation*}\n",
    " \\begin{cases}\n",
    "   \\mu - u_0 \\sigma/\\sqrt{n} \\leq \\overline{X}\n",
    "   \\\\\n",
    "   \\mu + u_0 \\sigma/\\sqrt{n} \\geq \\overline{X}\n",
    "   \\\\\n",
    "   (n -1)^{1/2}S/b \\leq \\sigma \\leq (n-1)^{1/2}S/a\n",
    " \\end{cases}\n",
    "\\end{equation*}$\n",
    "Где $\\mu_0$ - квантиль уровня $\\sqrt{0.95}$ из нормального распределения, a, b - квантили уровней $(1 - \\sqrt{0.95})/2$ и $(1 + \\sqrt{0.95})/2$ соответственно из распределения $\\chi^2_{n-1}$ (этот интервал построен, исходя из независимости статистик $\\overline{X}, S$, так, что по каждому параметру получается уровень $\\sqrt{0.95}$ с целью получить 0.95 в итоге"
   ]
  },
  {
   "cell_type": "code",
   "execution_count": 333,
   "metadata": {
    "collapsed": false,
    "deletable": true,
    "editable": true
   },
   "outputs": [
    {
     "name": "stdout",
     "output_type": "stream",
     "text": [
      "\n",
      "_____Run:(n = 5)_________\n",
      "(800, 500, 2)\n",
      "(800, 500)\n"
     ]
    },
    {
     "data": {
      "image/png": "[encoded data removed]",
      "text/plain": [
       "<matplotlib.figure.Figure at 0x7fd4cf144b00>"
      ]
     },
     "metadata": {},
     "output_type": "display_data"
    },
    {
     "name": "stdout",
     "output_type": "stream",
     "text": [
      "\n",
      "_____Run:(n = 20)_________\n",
      "(800, 500, 2)\n",
      "(800, 500)\n"
     ]
    },
    {
     "data": {
      "image/png": "[encoded data removed]",
      "text/plain": [
       "<matplotlib.figure.Figure at 0x7fd4cf2c6588>"
      ]
     },
     "metadata": {},
     "output_type": "display_data"
    },
    {
     "name": "stdout",
     "output_type": "stream",
     "text": [
      "\n",
      "_____Run:(n = 50)_________\n",
      "(800, 500, 2)\n",
      "(800, 500)\n"
     ]
    },
    {
     "data": {
      "image/png": "[encoded data removed]",
      "text/plain": [
       "<matplotlib.figure.Figure at 0x7fd4cefa25c0>"
      ]
     },
     "metadata": {},
     "output_type": "display_data"
    }
   ],
   "source": [
    "alpha = 0.95\n",
    "u0 = sps.norm.ppf(np.sqrt(0.95))\n",
    "for n in [5, 20, 50]:\n",
    "    \n",
    "    a = sps.chi2.ppf((1. - np.sqrt(0.95))/2, n-1.)\n",
    "    b = sps.chi2.ppf((1. + np.sqrt(0.95))/2, n-1.)\n",
    "    print(\"\\n_____Run:(n = %d)_________\" %  n)\n",
    "    X = sps.norm.rvs(size=n)\n",
    "    X_mean = X.mean()\n",
    "    S2 = (X*X).mean() - X_mean**2\n",
    "    \n",
    "    mgrid = np.mgrid[-4:4:0.01, -1:4:0.01]\n",
    "    grid = np.empty(mgrid[0].shape + (2,))\n",
    "    grid[:, :, 0] = mgrid[0]\n",
    "    grid[:, :, 1] = mgrid[1]\n",
    "    \n",
    "    def check(mu, sig):\n",
    "        fst = mu - u0*sig/np.sqrt(n) <= X_mean\n",
    "        snd = mu + u0*sig/np.sqrt(n) >= X_mean\n",
    "        thr = np.sqrt((n - 1) *S2/b) <= sig\n",
    "        fth = sig <= np.sqrt((n-1) * S2 / a)\n",
    "        return fst and snd and thr and fth\n",
    "    \n",
    "    CI = np.array([\n",
    "        [1 if check(grid[x, y, 0], grid[x, y, 1]) else 0 for y in range(grid.shape[1])]\n",
    "        for x in range(grid.shape[0])\n",
    "    ])\n",
    "    print(grid.shape)\n",
    "    print(CI.shape)\n",
    "    plt.figure(figsize=(14,7))\n",
    "    plt.pcolormesh(mgrid[0], mgrid[1], CI, label=\"Confidence interval\", cmap='summer')\n",
    "    plt.grid()\n",
    "    plt.xlabel(r\"$\\mu$\")\n",
    "    plt.ylabel(r\"$\\sigma$\")\n",
    "    plt.show()"
   ]
  },
  {
   "cell_type": "markdown",
   "metadata": {
    "deletable": true,
    "editable": true
   },
   "source": [
    "** Вывод: ** Раз уж мы свели задачу к задаче линейной регрессии в гауссовской модели, то можно сказать, что для неё важен размер выборки - чем он больше, тем меньше доверительные интервалы. \n",
    "\n",
    "**Комментарий:** картинка совпадает с картинкой (по форме) из книги"
   ]
  },
  {
   "cell_type": "markdown",
   "metadata": {
    "deletable": true,
    "editable": true
   },
   "source": [
    "**Задача 5<font size=\"5\" color=\"red\">\\*</font>.** \n",
    "Пусть дана линейная гауссовская модель $Y = X\\theta + \\varepsilon$, где $\\varepsilon \\sim \\mathcal{N}(0, \\beta^{-1}I_n)$.\n",
    "Пусть $\\theta$ имеет априорное распределение $\\mathcal{N}(0, \\alpha^{-1}I_k)$. \n",
    "Такая постановка задачи соответствует Ridge-регрессии.\n",
    "Оценкой параметров будет математическое ожидание по апостериорному распределению, аналогично можно получить доверительный интервал.\n",
    "Кроме того, с помощью апостериорного распределения можно получить доверительный интервал для отклика на новом объекте, а не только точечную оценку.\n",
    "\n",
    "Реализуйте класс RidgeRegression подобно классу LinearRegression, но добавьте в него так же возможность получения доверительного интервала для отклика на новом объекте.\n",
    "Примените модель к некоторых датасетам, которые рассматривались в предыдущих задачах.\n",
    "Нарисуйте графики оценки отклика на новом объекте и доверительные интервалы для него."
   ]
  },
  {
   "cell_type": "markdown",
   "metadata": {
    "deletable": true,
    "editable": true
   },
   "source": [
    "## 2. Проверка статистических гипотез"
   ]
  },
  {
   "cell_type": "markdown",
   "metadata": {
    "deletable": true,
    "editable": true
   },
   "source": [
    "**Задача 6.** \n",
    "Существует примета, что если перед вам дорогу перебегает черный кот, то скоро случится неудача. \n",
    "Вы же уже достаточно хорошо знаете статистику и хотите проверить данную примету. \n",
    "Сформулируем задачу на математическом языке. \n",
    "Пусть $X_1, ..., X_n \\sim Bern(p)$ --- проведенные наблюдения, где $X_i = 1$, если в $i$-м испытании случилась неудача после того, как черный кот перебежал дорогу, а $p$ --- неизвестная вероятность такого события. \n",
    "Нужно проверить гипотезу $H_0: p=1/2$ (отсутствие связи между черным котом и неудачей) против альтернативы $H_1: p>1/2$ (неудача происходит чаще если черный кот перебегает дорогу).\n",
    "\n",
    "Известно, что $S = \\left\\{T(X) > c_\\alpha\\right\\}$, где $T(X) = \\sum X_i$, является равномерно наиболее мощным критерием для данной задачи. \n",
    "Чему при этом равно $c_\\alpha$?\n",
    "При этом p-value в данной задаче определяется как $p(t) = \\mathsf{P}_{0.5}(T(X) > t)$, где $t = \\sum x_i$ --- реализация статистики $T(X)$.\n",
    "\n",
    "Для начала проверьте, что критерий работает.\n",
    "Возьмите несколько значений $n$ и реализаций статистики $T(X)$.\n",
    "В каждом случае найдите значение $c_\\alpha$ и p-value.\n",
    "Оформите это в виде таблицы.\n",
    "\n",
    "Пользуйтесь функциями из `scipy.stats`, про которые подробно написано в файле `python_5`. Внимательно проверьте правильность строгих и нестрогих знаков."
   ]
  },
  {
   "cell_type": "markdown",
   "metadata": {
    "deletable": true,
    "editable": true
   },
   "source": [
    "__________\n",
    "$P_{\\theta_0=\\frac{1}{2}}(T(X) > c_\\alpha) = \\alpha = 1 - P_{\\theta_0=\\frac{1}{2}}(T(X) \\leq c_\\alpha) $ (Это из теоремы о мнотонном отношении правдоподобия)\n",
    "\n",
    "$c_\\alpha = z_{1 - \\alpha}$, где z - квантиль из распределения $Bin(p=\\theta_0, n)$"
   ]
  },
  {
   "cell_type": "code",
   "execution_count": 371,
   "metadata": {
    "collapsed": false,
    "deletable": true,
    "editable": true
   },
   "outputs": [
    {
     "data": {
      "text/html": [
       "<div>\n",
       "<table border=\"1\" class=\"dataframe\">\n",
       "  <thead>\n",
       "    <tr style=\"text-align: right;\">\n",
       "      <th></th>\n",
       "      <th>n</th>\n",
       "      <th>p</th>\n",
       "      <th>t</th>\n",
       "      <th>ca</th>\n",
       "      <th>pvalue</th>\n",
       "    </tr>\n",
       "  </thead>\n",
       "  <tbody>\n",
       "    <tr>\n",
       "      <th>0</th>\n",
       "      <td>5</td>\n",
       "      <td>0.5</td>\n",
       "      <td>4</td>\n",
       "      <td>2.0</td>\n",
       "      <td>0.031250</td>\n",
       "    </tr>\n",
       "    <tr>\n",
       "      <th>1</th>\n",
       "      <td>20</td>\n",
       "      <td>0.5</td>\n",
       "      <td>11</td>\n",
       "      <td>10.0</td>\n",
       "      <td>0.251722</td>\n",
       "    </tr>\n",
       "    <tr>\n",
       "      <th>2</th>\n",
       "      <td>50</td>\n",
       "      <td>0.5</td>\n",
       "      <td>33</td>\n",
       "      <td>25.0</td>\n",
       "      <td>0.007673</td>\n",
       "    </tr>\n",
       "    <tr>\n",
       "      <th>3</th>\n",
       "      <td>100</td>\n",
       "      <td>0.5</td>\n",
       "      <td>48</td>\n",
       "      <td>50.0</td>\n",
       "      <td>0.617823</td>\n",
       "    </tr>\n",
       "    <tr>\n",
       "      <th>4</th>\n",
       "      <td>100</td>\n",
       "      <td>0.7</td>\n",
       "      <td>72</td>\n",
       "      <td>50.0</td>\n",
       "      <td>0.000002</td>\n",
       "    </tr>\n",
       "    <tr>\n",
       "      <th>5</th>\n",
       "      <td>100</td>\n",
       "      <td>0.6</td>\n",
       "      <td>60</td>\n",
       "      <td>50.0</td>\n",
       "      <td>0.017600</td>\n",
       "    </tr>\n",
       "    <tr>\n",
       "      <th>6</th>\n",
       "      <td>100</td>\n",
       "      <td>0.2</td>\n",
       "      <td>28</td>\n",
       "      <td>50.0</td>\n",
       "      <td>0.999994</td>\n",
       "    </tr>\n",
       "  </tbody>\n",
       "</table>\n",
       "</div>"
      ],
      "text/plain": [
       "     n    p   t    ca    pvalue\n",
       "0    5  0.5   4   2.0  0.031250\n",
       "1   20  0.5  11  10.0  0.251722\n",
       "2   50  0.5  33  25.0  0.007673\n",
       "3  100  0.5  48  50.0  0.617823\n",
       "4  100  0.7  72  50.0  0.000002\n",
       "5  100  0.6  60  50.0  0.017600\n",
       "6  100  0.2  28  50.0  0.999994"
      ]
     },
     "execution_count": 371,
     "metadata": {},
     "output_type": "execute_result"
    }
   ],
   "source": [
    "theta_0 = 0.5\n",
    "alpha=0.5\n",
    "df = []\n",
    "for n,p in [(5, 0.5), (20,0.5), (50,0.5), (100, 0.5), (100, 0.7), (100, 0.6), (100, 0.2)]:\n",
    "    X = sps.bernoulli(p=p).rvs(size=n)\n",
    "    t = X.sum()\n",
    "    ca = sps.binom(n=n,p=theta_0).ppf(alpha)\n",
    "    pval = 1. - sps.binom(n=n,p=theta_0).cdf(t) \n",
    "    df.append([n, p, t, ca, pval])\n",
    "    \n",
    "df = pd.DataFrame(df, columns= [\"n\", \"p\", \"t\", \"ca\", \"pvalue\"])\n",
    "df"
   ]
  },
  {
   "cell_type": "markdown",
   "metadata": {
    "deletable": true,
    "editable": true
   },
   "source": [
    "___________\n",
    "** Комментарий: **пример №6 демонстрирует, что будет, если реальное p < 0.5 (наши гипотезы всё-таки $H_0: p <= 1/2, H_1: p > 1/2$)\n",
    "___________"
   ]
  },
  {
   "cell_type": "markdown",
   "metadata": {
    "deletable": true,
    "editable": true
   },
   "source": [
    "Для каких истинных значений $p$ с точки зрения практики можно считать, что связь между черным котом и неудачей есть? \n",
    "Теперь сгенерируйте 10 выборок для двух случаев: 1). $n=5, p=0.75$; 2). $n=10^5, p=0.51$. \n",
    "В каждом случае в виде таблицы выведите реализацию статистики $T(X)$, соответствующее p-value и 0/1 - отвергается ли $H_0$ (выводите 1, если отвергается).\n",
    "Какие выводы можно сделать?"
   ]
  },
  {
   "cell_type": "code",
   "execution_count": 381,
   "metadata": {
    "collapsed": false,
    "deletable": true,
    "editable": true
   },
   "outputs": [
    {
     "data": {
      "text/html": [
       "<div>\n",
       "<table border=\"1\" class=\"dataframe\">\n",
       "  <thead>\n",
       "    <tr style=\"text-align: right;\">\n",
       "      <th></th>\n",
       "      <th>n</th>\n",
       "      <th>p</th>\n",
       "      <th>t</th>\n",
       "      <th>ca</th>\n",
       "      <th>pvalue</th>\n",
       "      <th>accepted</th>\n",
       "      <th>H_i</th>\n",
       "    </tr>\n",
       "  </thead>\n",
       "  <tbody>\n",
       "    <tr>\n",
       "      <th>0</th>\n",
       "      <td>5</td>\n",
       "      <td>0.75</td>\n",
       "      <td>4</td>\n",
       "      <td>2.0</td>\n",
       "      <td>0.03125</td>\n",
       "      <td>False</td>\n",
       "      <td>1</td>\n",
       "    </tr>\n",
       "    <tr>\n",
       "      <th>1</th>\n",
       "      <td>5</td>\n",
       "      <td>0.75</td>\n",
       "      <td>4</td>\n",
       "      <td>2.0</td>\n",
       "      <td>0.03125</td>\n",
       "      <td>False</td>\n",
       "      <td>1</td>\n",
       "    </tr>\n",
       "    <tr>\n",
       "      <th>2</th>\n",
       "      <td>5</td>\n",
       "      <td>0.75</td>\n",
       "      <td>5</td>\n",
       "      <td>2.0</td>\n",
       "      <td>0.00000</td>\n",
       "      <td>False</td>\n",
       "      <td>1</td>\n",
       "    </tr>\n",
       "    <tr>\n",
       "      <th>3</th>\n",
       "      <td>5</td>\n",
       "      <td>0.75</td>\n",
       "      <td>5</td>\n",
       "      <td>2.0</td>\n",
       "      <td>0.00000</td>\n",
       "      <td>False</td>\n",
       "      <td>1</td>\n",
       "    </tr>\n",
       "    <tr>\n",
       "      <th>4</th>\n",
       "      <td>5</td>\n",
       "      <td>0.75</td>\n",
       "      <td>4</td>\n",
       "      <td>2.0</td>\n",
       "      <td>0.03125</td>\n",
       "      <td>False</td>\n",
       "      <td>1</td>\n",
       "    </tr>\n",
       "    <tr>\n",
       "      <th>5</th>\n",
       "      <td>5</td>\n",
       "      <td>0.75</td>\n",
       "      <td>5</td>\n",
       "      <td>2.0</td>\n",
       "      <td>0.00000</td>\n",
       "      <td>False</td>\n",
       "      <td>1</td>\n",
       "    </tr>\n",
       "    <tr>\n",
       "      <th>6</th>\n",
       "      <td>5</td>\n",
       "      <td>0.75</td>\n",
       "      <td>4</td>\n",
       "      <td>2.0</td>\n",
       "      <td>0.03125</td>\n",
       "      <td>False</td>\n",
       "      <td>1</td>\n",
       "    </tr>\n",
       "    <tr>\n",
       "      <th>7</th>\n",
       "      <td>5</td>\n",
       "      <td>0.75</td>\n",
       "      <td>1</td>\n",
       "      <td>2.0</td>\n",
       "      <td>0.81250</td>\n",
       "      <td>True</td>\n",
       "      <td>0</td>\n",
       "    </tr>\n",
       "    <tr>\n",
       "      <th>8</th>\n",
       "      <td>5</td>\n",
       "      <td>0.75</td>\n",
       "      <td>3</td>\n",
       "      <td>2.0</td>\n",
       "      <td>0.18750</td>\n",
       "      <td>False</td>\n",
       "      <td>1</td>\n",
       "    </tr>\n",
       "    <tr>\n",
       "      <th>9</th>\n",
       "      <td>5</td>\n",
       "      <td>0.75</td>\n",
       "      <td>3</td>\n",
       "      <td>2.0</td>\n",
       "      <td>0.18750</td>\n",
       "      <td>False</td>\n",
       "      <td>1</td>\n",
       "    </tr>\n",
       "  </tbody>\n",
       "</table>\n",
       "</div>"
      ],
      "text/plain": [
       "   n     p  t   ca   pvalue accepted  H_i\n",
       "0  5  0.75  4  2.0  0.03125    False    1\n",
       "1  5  0.75  4  2.0  0.03125    False    1\n",
       "2  5  0.75  5  2.0  0.00000    False    1\n",
       "3  5  0.75  5  2.0  0.00000    False    1\n",
       "4  5  0.75  4  2.0  0.03125    False    1\n",
       "5  5  0.75  5  2.0  0.00000    False    1\n",
       "6  5  0.75  4  2.0  0.03125    False    1\n",
       "7  5  0.75  1  2.0  0.81250     True    0\n",
       "8  5  0.75  3  2.0  0.18750    False    1\n",
       "9  5  0.75  3  2.0  0.18750    False    1"
      ]
     },
     "metadata": {},
     "output_type": "display_data"
    },
    {
     "data": {
      "text/html": [
       "<div>\n",
       "<table border=\"1\" class=\"dataframe\">\n",
       "  <thead>\n",
       "    <tr style=\"text-align: right;\">\n",
       "      <th></th>\n",
       "      <th>n</th>\n",
       "      <th>p</th>\n",
       "      <th>t</th>\n",
       "      <th>ca</th>\n",
       "      <th>pvalue</th>\n",
       "      <th>accepted</th>\n",
       "      <th>H_i</th>\n",
       "    </tr>\n",
       "  </thead>\n",
       "  <tbody>\n",
       "    <tr>\n",
       "      <th>0</th>\n",
       "      <td>100000</td>\n",
       "      <td>0.5</td>\n",
       "      <td>49957</td>\n",
       "      <td>50000.0</td>\n",
       "      <td>0.605956</td>\n",
       "      <td>True</td>\n",
       "      <td>0</td>\n",
       "    </tr>\n",
       "    <tr>\n",
       "      <th>1</th>\n",
       "      <td>100000</td>\n",
       "      <td>0.5</td>\n",
       "      <td>49938</td>\n",
       "      <td>50000.0</td>\n",
       "      <td>0.651347</td>\n",
       "      <td>True</td>\n",
       "      <td>0</td>\n",
       "    </tr>\n",
       "    <tr>\n",
       "      <th>2</th>\n",
       "      <td>100000</td>\n",
       "      <td>0.5</td>\n",
       "      <td>50063</td>\n",
       "      <td>50000.0</td>\n",
       "      <td>0.343986</td>\n",
       "      <td>False</td>\n",
       "      <td>1</td>\n",
       "    </tr>\n",
       "    <tr>\n",
       "      <th>3</th>\n",
       "      <td>100000</td>\n",
       "      <td>0.5</td>\n",
       "      <td>50205</td>\n",
       "      <td>50000.0</td>\n",
       "      <td>0.096852</td>\n",
       "      <td>False</td>\n",
       "      <td>1</td>\n",
       "    </tr>\n",
       "    <tr>\n",
       "      <th>4</th>\n",
       "      <td>100000</td>\n",
       "      <td>0.5</td>\n",
       "      <td>50122</td>\n",
       "      <td>50000.0</td>\n",
       "      <td>0.219241</td>\n",
       "      <td>False</td>\n",
       "      <td>1</td>\n",
       "    </tr>\n",
       "    <tr>\n",
       "      <th>5</th>\n",
       "      <td>100000</td>\n",
       "      <td>0.5</td>\n",
       "      <td>49831</td>\n",
       "      <td>50000.0</td>\n",
       "      <td>0.856718</td>\n",
       "      <td>True</td>\n",
       "      <td>0</td>\n",
       "    </tr>\n",
       "    <tr>\n",
       "      <th>6</th>\n",
       "      <td>100000</td>\n",
       "      <td>0.5</td>\n",
       "      <td>49945</td>\n",
       "      <td>50000.0</td>\n",
       "      <td>0.634836</td>\n",
       "      <td>True</td>\n",
       "      <td>0</td>\n",
       "    </tr>\n",
       "    <tr>\n",
       "      <th>7</th>\n",
       "      <td>100000</td>\n",
       "      <td>0.5</td>\n",
       "      <td>49872</td>\n",
       "      <td>50000.0</td>\n",
       "      <td>0.789988</td>\n",
       "      <td>True</td>\n",
       "      <td>0</td>\n",
       "    </tr>\n",
       "    <tr>\n",
       "      <th>8</th>\n",
       "      <td>100000</td>\n",
       "      <td>0.5</td>\n",
       "      <td>49943</td>\n",
       "      <td>50000.0</td>\n",
       "      <td>0.639580</td>\n",
       "      <td>True</td>\n",
       "      <td>0</td>\n",
       "    </tr>\n",
       "    <tr>\n",
       "      <th>9</th>\n",
       "      <td>100000</td>\n",
       "      <td>0.5</td>\n",
       "      <td>50059</td>\n",
       "      <td>50000.0</td>\n",
       "      <td>0.353343</td>\n",
       "      <td>False</td>\n",
       "      <td>1</td>\n",
       "    </tr>\n",
       "  </tbody>\n",
       "</table>\n",
       "</div>"
      ],
      "text/plain": [
       "        n    p      t       ca    pvalue accepted  H_i\n",
       "0  100000  0.5  49957  50000.0  0.605956     True    0\n",
       "1  100000  0.5  49938  50000.0  0.651347     True    0\n",
       "2  100000  0.5  50063  50000.0  0.343986    False    1\n",
       "3  100000  0.5  50205  50000.0  0.096852    False    1\n",
       "4  100000  0.5  50122  50000.0  0.219241    False    1\n",
       "5  100000  0.5  49831  50000.0  0.856718     True    0\n",
       "6  100000  0.5  49945  50000.0  0.634836     True    0\n",
       "7  100000  0.5  49872  50000.0  0.789988     True    0\n",
       "8  100000  0.5  49943  50000.0  0.639580     True    0\n",
       "9  100000  0.5  50059  50000.0  0.353343    False    1"
      ]
     },
     "metadata": {},
     "output_type": "display_data"
    }
   ],
   "source": [
    "theta_0 = 0.5\n",
    "alpha=0.5\n",
    "for n,p in [(5, 0.75), (10**5, 0.5)]:\n",
    "    X = sps.bernoulli(p=p).rvs(size=(10, n))\n",
    "    \n",
    "    df = []\n",
    "    for Xi in X:\n",
    "        t = Xi.sum()\n",
    "        ca = sps.binom(n=n,p=theta_0).ppf(alpha)\n",
    "        pval = 1. - sps.binom(n=n,p=theta_0).cdf(t) \n",
    "        accepted = not(t > ca)\n",
    "        df.append([n, p, t, ca, pval, accepted, 1 * (not accepted)])\n",
    "\n",
    "    df = pd.DataFrame(df, columns= [\"n\", \"p\", \"t\", \"ca\", \"pvalue\", \"accepted\", \"H_i\"])\n",
    "    display(df)\n"
   ]
  },
  {
   "cell_type": "markdown",
   "metadata": {
    "deletable": true,
    "editable": true
   },
   "source": [
    "___________\n",
    "** Комментарий: ** При малом размере выборки даже при явно не подходящем значении p случаются ложные срабатывания. При этом, даже при большом размере выборки при близких значениях p критерий выдаёт произвольный ответ, похожий в данном примере на Bern(0.5)\n",
    "___________"
   ]
  },
  {
   "cell_type": "markdown",
   "metadata": {
    "deletable": true,
    "editable": true
   },
   "source": [
    "Возникает задача подбора оптимального размера выборки.\n",
    "\n",
    "Для этого сначала зафиксируйте значение $p^* > 1/2$, которое будет обладать следующим свойством.\n",
    "Если истинное $p > p^*$, то такое отклонение от $1/2$ с практической точки зрения признается существенным, то есть действительно чаще случается неудача после того, как черный кот перебегает дорогу.\n",
    "В противном случае отклонение с практической точки зрения признается несущественным.\n",
    "\n",
    "Теперь для некоторых $n$ постройте графики функции мощности критерия при $1/2 < p < 1$ и уровне значимости 0.05.\n",
    "Выберите такое $n^*$, для которого функция мощности дает значение 0.8 при $p^*$.\n",
    "Для выбранного $n^*$ проведите эксперимент, аналогичный проведенным ранее экспериментам, сгенерировав выборки для следующих истинных значений $p$: 1). $1/2 < p < p^*$; 2). $p > p^*$.\n",
    "Сделайте вывод."
   ]
  },
  {
   "cell_type": "markdown",
   "metadata": {
    "deletable": true,
    "editable": true
   },
   "source": [
    "_____________\n",
    "$\\beta(\\theta, S) = P_\\theta(X \\in S)$\n",
    "\n",
    "$\\beta(\\theta, S) = P_\\theta(T(X) > c_\\alpha)= 1 - P_\\theta(T(X) \\leq c_\\alpha)$\n",
    "_____________"
   ]
  },
  {
   "cell_type": "code",
   "execution_count": 416,
   "metadata": {
    "collapsed": false,
    "deletable": true,
    "editable": true,
    "scrolled": false
   },
   "outputs": [
    {
     "data": {
      "image/png": "[encoded data removed]",
      "text/plain": [
       "<matplotlib.figure.Figure at 0x7fd4cf1f7ef0>"
      ]
     },
     "metadata": {},
     "output_type": "display_data"
    },
    {
     "data": {
      "image/png": "[encoded data removed]",
      "text/plain": [
       "<matplotlib.figure.Figure at 0x7fd4cee4cc18>"
      ]
     },
     "metadata": {},
     "output_type": "display_data"
    },
    {
     "data": {
      "image/png": "[encoded data removed]",
      "text/plain": [
       "<matplotlib.figure.Figure at 0x7fd4cf1b1438>"
      ]
     },
     "metadata": {},
     "output_type": "display_data"
    },
    {
     "data": {
      "image/png": "[encoded data removed]",
      "text/plain": [
       "<matplotlib.figure.Figure at 0x7fd4cf2d9748>"
      ]
     },
     "metadata": {},
     "output_type": "display_data"
    },
    {
     "data": {
      "image/png": "[encoded data removed]",
      "text/plain": [
       "<matplotlib.figure.Figure at 0x7fd4cf2a5f28>"
      ]
     },
     "metadata": {},
     "output_type": "display_data"
    },
    {
     "name": "stdout",
     "output_type": "stream",
     "text": [
      "nstar = 77\n"
     ]
    }
   ],
   "source": [
    "pstar = 0.55 # мы же его сами выбираем, с помощь \"оракула\" ?\n",
    "def beta(theta, ca):\n",
    "    return 1. - sps.binom(n=n, p=theta).cdf(ca)\n",
    "\n",
    "\n",
    "for n in [5, 50, 100, 150, 77]:\n",
    "    ca = sps.binom(n=n,p=theta_0).ppf(alpha)\n",
    "    grid = np.linspace(0.5, 1, 1000)\n",
    "    f = np.array([\n",
    "        beta(i, ca) for i in grid\n",
    "    ])\n",
    "    #print(f ,ca)\n",
    "    plt.figure(figsize=(14, 7))\n",
    "    plt.plot(grid, f)\n",
    "    plt.grid()\n",
    "    plt.vlines(0.55, 0.5, 0.8, color=\"red\")\n",
    "    plt.title(r\"$\\beta(\\theta)$ plot with n = %d\" % n)\n",
    "    plt.ylabel(r\"$\\beta(\\theta, S)$\")\n",
    "    plt.xlabel(r\"$\\theta = p$\")\n",
    "    plt.show()\n",
    "    \n",
    "nstar = 5\n",
    "for n in range(5, 500):\n",
    "    ca = sps.binom(n=n,p=theta_0).ppf(alpha)\n",
    "    if (beta(pstar, ca) >= 0.8):\n",
    "        nstar = n\n",
    "        print(\"nstar = %d\" % n)\n",
    "        break"
   ]
  },
  {
   "cell_type": "markdown",
   "metadata": {
    "deletable": true,
    "editable": true
   },
   "source": [
    "Имеем $n^*=77$ (минимальное такое, что можность на $p^*$ даёт 0.8) "
   ]
  },
  {
   "cell_type": "code",
   "execution_count": 436,
   "metadata": {
    "collapsed": false,
    "deletable": true,
    "editable": true
   },
   "outputs": [
    {
     "name": "stdout",
     "output_type": "stream",
     "text": [
      "77 0.55\n"
     ]
    },
    {
     "data": {
      "text/html": [
       "<div>\n",
       "<table border=\"1\" class=\"dataframe\">\n",
       "  <thead>\n",
       "    <tr style=\"text-align: right;\">\n",
       "      <th></th>\n",
       "      <th>n</th>\n",
       "      <th>xp</th>\n",
       "      <th>t</th>\n",
       "      <th>ca</th>\n",
       "      <th>pvalue</th>\n",
       "      <th>accepted</th>\n",
       "      <th>H_i</th>\n",
       "    </tr>\n",
       "  </thead>\n",
       "  <tbody>\n",
       "    <tr>\n",
       "      <th>0</th>\n",
       "      <td>77</td>\n",
       "      <td>0.525</td>\n",
       "      <td>44</td>\n",
       "      <td>42.0</td>\n",
       "      <td>0.312362</td>\n",
       "      <td>False</td>\n",
       "      <td>1</td>\n",
       "    </tr>\n",
       "    <tr>\n",
       "      <th>1</th>\n",
       "      <td>77</td>\n",
       "      <td>0.525</td>\n",
       "      <td>42</td>\n",
       "      <td>42.0</td>\n",
       "      <td>0.487840</td>\n",
       "      <td>True</td>\n",
       "      <td>0</td>\n",
       "    </tr>\n",
       "    <tr>\n",
       "      <th>2</th>\n",
       "      <td>77</td>\n",
       "      <td>0.525</td>\n",
       "      <td>39</td>\n",
       "      <td>42.0</td>\n",
       "      <td>0.743651</td>\n",
       "      <td>True</td>\n",
       "      <td>0</td>\n",
       "    </tr>\n",
       "    <tr>\n",
       "      <th>3</th>\n",
       "      <td>77</td>\n",
       "      <td>0.525</td>\n",
       "      <td>42</td>\n",
       "      <td>42.0</td>\n",
       "      <td>0.487840</td>\n",
       "      <td>True</td>\n",
       "      <td>0</td>\n",
       "    </tr>\n",
       "    <tr>\n",
       "      <th>4</th>\n",
       "      <td>77</td>\n",
       "      <td>0.525</td>\n",
       "      <td>39</td>\n",
       "      <td>42.0</td>\n",
       "      <td>0.743651</td>\n",
       "      <td>True</td>\n",
       "      <td>0</td>\n",
       "    </tr>\n",
       "    <tr>\n",
       "      <th>5</th>\n",
       "      <td>77</td>\n",
       "      <td>0.525</td>\n",
       "      <td>53</td>\n",
       "      <td>42.0</td>\n",
       "      <td>0.004762</td>\n",
       "      <td>False</td>\n",
       "      <td>1</td>\n",
       "    </tr>\n",
       "    <tr>\n",
       "      <th>6</th>\n",
       "      <td>77</td>\n",
       "      <td>0.525</td>\n",
       "      <td>40</td>\n",
       "      <td>42.0</td>\n",
       "      <td>0.665145</td>\n",
       "      <td>True</td>\n",
       "      <td>0</td>\n",
       "    </tr>\n",
       "    <tr>\n",
       "      <th>7</th>\n",
       "      <td>77</td>\n",
       "      <td>0.525</td>\n",
       "      <td>39</td>\n",
       "      <td>42.0</td>\n",
       "      <td>0.743651</td>\n",
       "      <td>True</td>\n",
       "      <td>0</td>\n",
       "    </tr>\n",
       "    <tr>\n",
       "      <th>8</th>\n",
       "      <td>77</td>\n",
       "      <td>0.525</td>\n",
       "      <td>39</td>\n",
       "      <td>42.0</td>\n",
       "      <td>0.743651</td>\n",
       "      <td>True</td>\n",
       "      <td>0</td>\n",
       "    </tr>\n",
       "    <tr>\n",
       "      <th>9</th>\n",
       "      <td>77</td>\n",
       "      <td>0.525</td>\n",
       "      <td>43</td>\n",
       "      <td>42.0</td>\n",
       "      <td>0.397594</td>\n",
       "      <td>False</td>\n",
       "      <td>1</td>\n",
       "    </tr>\n",
       "  </tbody>\n",
       "</table>\n",
       "</div>"
      ],
      "text/plain": [
       "    n     xp   t    ca    pvalue accepted  H_i\n",
       "0  77  0.525  44  42.0  0.312362    False    1\n",
       "1  77  0.525  42  42.0  0.487840     True    0\n",
       "2  77  0.525  39  42.0  0.743651     True    0\n",
       "3  77  0.525  42  42.0  0.487840     True    0\n",
       "4  77  0.525  39  42.0  0.743651     True    0\n",
       "5  77  0.525  53  42.0  0.004762    False    1\n",
       "6  77  0.525  40  42.0  0.665145     True    0\n",
       "7  77  0.525  39  42.0  0.743651     True    0\n",
       "8  77  0.525  39  42.0  0.743651     True    0\n",
       "9  77  0.525  43  42.0  0.397594    False    1"
      ]
     },
     "metadata": {},
     "output_type": "display_data"
    },
    {
     "data": {
      "text/html": [
       "<div>\n",
       "<table border=\"1\" class=\"dataframe\">\n",
       "  <thead>\n",
       "    <tr style=\"text-align: right;\">\n",
       "      <th></th>\n",
       "      <th>n</th>\n",
       "      <th>xp</th>\n",
       "      <th>t</th>\n",
       "      <th>ca</th>\n",
       "      <th>pvalue</th>\n",
       "      <th>accepted</th>\n",
       "      <th>H_i</th>\n",
       "    </tr>\n",
       "  </thead>\n",
       "  <tbody>\n",
       "    <tr>\n",
       "      <th>0</th>\n",
       "      <td>77</td>\n",
       "      <td>0.55</td>\n",
       "      <td>50</td>\n",
       "      <td>42.0</td>\n",
       "      <td>0.029921</td>\n",
       "      <td>False</td>\n",
       "      <td>1</td>\n",
       "    </tr>\n",
       "    <tr>\n",
       "      <th>1</th>\n",
       "      <td>77</td>\n",
       "      <td>0.55</td>\n",
       "      <td>42</td>\n",
       "      <td>42.0</td>\n",
       "      <td>0.487840</td>\n",
       "      <td>True</td>\n",
       "      <td>0</td>\n",
       "    </tr>\n",
       "    <tr>\n",
       "      <th>2</th>\n",
       "      <td>77</td>\n",
       "      <td>0.55</td>\n",
       "      <td>33</td>\n",
       "      <td>42.0</td>\n",
       "      <td>0.978424</td>\n",
       "      <td>True</td>\n",
       "      <td>0</td>\n",
       "    </tr>\n",
       "    <tr>\n",
       "      <th>3</th>\n",
       "      <td>77</td>\n",
       "      <td>0.55</td>\n",
       "      <td>47</td>\n",
       "      <td>42.0</td>\n",
       "      <td>0.118655</td>\n",
       "      <td>False</td>\n",
       "      <td>1</td>\n",
       "    </tr>\n",
       "    <tr>\n",
       "      <th>4</th>\n",
       "      <td>77</td>\n",
       "      <td>0.55</td>\n",
       "      <td>36</td>\n",
       "      <td>42.0</td>\n",
       "      <td>0.909583</td>\n",
       "      <td>True</td>\n",
       "      <td>0</td>\n",
       "    </tr>\n",
       "    <tr>\n",
       "      <th>5</th>\n",
       "      <td>77</td>\n",
       "      <td>0.55</td>\n",
       "      <td>49</td>\n",
       "      <td>42.0</td>\n",
       "      <td>0.049724</td>\n",
       "      <td>False</td>\n",
       "      <td>1</td>\n",
       "    </tr>\n",
       "    <tr>\n",
       "      <th>6</th>\n",
       "      <td>77</td>\n",
       "      <td>0.55</td>\n",
       "      <td>43</td>\n",
       "      <td>42.0</td>\n",
       "      <td>0.397594</td>\n",
       "      <td>False</td>\n",
       "      <td>1</td>\n",
       "    </tr>\n",
       "    <tr>\n",
       "      <th>7</th>\n",
       "      <td>77</td>\n",
       "      <td>0.55</td>\n",
       "      <td>48</td>\n",
       "      <td>42.0</td>\n",
       "      <td>0.078657</td>\n",
       "      <td>False</td>\n",
       "      <td>1</td>\n",
       "    </tr>\n",
       "    <tr>\n",
       "      <th>8</th>\n",
       "      <td>77</td>\n",
       "      <td>0.55</td>\n",
       "      <td>38</td>\n",
       "      <td>42.0</td>\n",
       "      <td>0.811264</td>\n",
       "      <td>True</td>\n",
       "      <td>0</td>\n",
       "    </tr>\n",
       "    <tr>\n",
       "      <th>9</th>\n",
       "      <td>77</td>\n",
       "      <td>0.55</td>\n",
       "      <td>37</td>\n",
       "      <td>42.0</td>\n",
       "      <td>0.866584</td>\n",
       "      <td>True</td>\n",
       "      <td>0</td>\n",
       "    </tr>\n",
       "  </tbody>\n",
       "</table>\n",
       "</div>"
      ],
      "text/plain": [
       "    n    xp   t    ca    pvalue accepted  H_i\n",
       "0  77  0.55  50  42.0  0.029921    False    1\n",
       "1  77  0.55  42  42.0  0.487840     True    0\n",
       "2  77  0.55  33  42.0  0.978424     True    0\n",
       "3  77  0.55  47  42.0  0.118655    False    1\n",
       "4  77  0.55  36  42.0  0.909583     True    0\n",
       "5  77  0.55  49  42.0  0.049724    False    1\n",
       "6  77  0.55  43  42.0  0.397594    False    1\n",
       "7  77  0.55  48  42.0  0.078657    False    1\n",
       "8  77  0.55  38  42.0  0.811264     True    0\n",
       "9  77  0.55  37  42.0  0.866584     True    0"
      ]
     },
     "metadata": {},
     "output_type": "display_data"
    },
    {
     "data": {
      "text/html": [
       "<div>\n",
       "<table border=\"1\" class=\"dataframe\">\n",
       "  <thead>\n",
       "    <tr style=\"text-align: right;\">\n",
       "      <th></th>\n",
       "      <th>n</th>\n",
       "      <th>xp</th>\n",
       "      <th>t</th>\n",
       "      <th>ca</th>\n",
       "      <th>pvalue</th>\n",
       "      <th>accepted</th>\n",
       "      <th>H_i</th>\n",
       "    </tr>\n",
       "  </thead>\n",
       "  <tbody>\n",
       "    <tr>\n",
       "      <th>0</th>\n",
       "      <td>77</td>\n",
       "      <td>0.575</td>\n",
       "      <td>47</td>\n",
       "      <td>42.0</td>\n",
       "      <td>0.118655</td>\n",
       "      <td>False</td>\n",
       "      <td>1</td>\n",
       "    </tr>\n",
       "    <tr>\n",
       "      <th>1</th>\n",
       "      <td>77</td>\n",
       "      <td>0.575</td>\n",
       "      <td>36</td>\n",
       "      <td>42.0</td>\n",
       "      <td>0.909583</td>\n",
       "      <td>True</td>\n",
       "      <td>0</td>\n",
       "    </tr>\n",
       "    <tr>\n",
       "      <th>2</th>\n",
       "      <td>77</td>\n",
       "      <td>0.575</td>\n",
       "      <td>44</td>\n",
       "      <td>42.0</td>\n",
       "      <td>0.312362</td>\n",
       "      <td>False</td>\n",
       "      <td>1</td>\n",
       "    </tr>\n",
       "    <tr>\n",
       "      <th>3</th>\n",
       "      <td>77</td>\n",
       "      <td>0.575</td>\n",
       "      <td>46</td>\n",
       "      <td>42.0</td>\n",
       "      <td>0.171016</td>\n",
       "      <td>False</td>\n",
       "      <td>1</td>\n",
       "    </tr>\n",
       "    <tr>\n",
       "      <th>4</th>\n",
       "      <td>77</td>\n",
       "      <td>0.575</td>\n",
       "      <td>49</td>\n",
       "      <td>42.0</td>\n",
       "      <td>0.049724</td>\n",
       "      <td>False</td>\n",
       "      <td>1</td>\n",
       "    </tr>\n",
       "    <tr>\n",
       "      <th>5</th>\n",
       "      <td>77</td>\n",
       "      <td>0.575</td>\n",
       "      <td>43</td>\n",
       "      <td>42.0</td>\n",
       "      <td>0.397594</td>\n",
       "      <td>False</td>\n",
       "      <td>1</td>\n",
       "    </tr>\n",
       "    <tr>\n",
       "      <th>6</th>\n",
       "      <td>77</td>\n",
       "      <td>0.575</td>\n",
       "      <td>38</td>\n",
       "      <td>42.0</td>\n",
       "      <td>0.811264</td>\n",
       "      <td>True</td>\n",
       "      <td>0</td>\n",
       "    </tr>\n",
       "    <tr>\n",
       "      <th>7</th>\n",
       "      <td>77</td>\n",
       "      <td>0.575</td>\n",
       "      <td>41</td>\n",
       "      <td>42.0</td>\n",
       "      <td>0.578554</td>\n",
       "      <td>True</td>\n",
       "      <td>0</td>\n",
       "    </tr>\n",
       "    <tr>\n",
       "      <th>8</th>\n",
       "      <td>77</td>\n",
       "      <td>0.575</td>\n",
       "      <td>48</td>\n",
       "      <td>42.0</td>\n",
       "      <td>0.078657</td>\n",
       "      <td>False</td>\n",
       "      <td>1</td>\n",
       "    </tr>\n",
       "    <tr>\n",
       "      <th>9</th>\n",
       "      <td>77</td>\n",
       "      <td>0.575</td>\n",
       "      <td>45</td>\n",
       "      <td>42.0</td>\n",
       "      <td>0.235969</td>\n",
       "      <td>False</td>\n",
       "      <td>1</td>\n",
       "    </tr>\n",
       "  </tbody>\n",
       "</table>\n",
       "</div>"
      ],
      "text/plain": [
       "    n     xp   t    ca    pvalue accepted  H_i\n",
       "0  77  0.575  47  42.0  0.118655    False    1\n",
       "1  77  0.575  36  42.0  0.909583     True    0\n",
       "2  77  0.575  44  42.0  0.312362    False    1\n",
       "3  77  0.575  46  42.0  0.171016    False    1\n",
       "4  77  0.575  49  42.0  0.049724    False    1\n",
       "5  77  0.575  43  42.0  0.397594    False    1\n",
       "6  77  0.575  38  42.0  0.811264     True    0\n",
       "7  77  0.575  41  42.0  0.578554     True    0\n",
       "8  77  0.575  48  42.0  0.078657    False    1\n",
       "9  77  0.575  45  42.0  0.235969    False    1"
      ]
     },
     "metadata": {},
     "output_type": "display_data"
    },
    {
     "data": {
      "text/html": [
       "<div>\n",
       "<table border=\"1\" class=\"dataframe\">\n",
       "  <thead>\n",
       "    <tr style=\"text-align: right;\">\n",
       "      <th></th>\n",
       "      <th>n</th>\n",
       "      <th>xp</th>\n",
       "      <th>t</th>\n",
       "      <th>ca</th>\n",
       "      <th>pvalue</th>\n",
       "      <th>accepted</th>\n",
       "      <th>H_i</th>\n",
       "    </tr>\n",
       "  </thead>\n",
       "  <tbody>\n",
       "    <tr>\n",
       "      <th>0</th>\n",
       "      <td>77</td>\n",
       "      <td>0.775</td>\n",
       "      <td>57</td>\n",
       "      <td>42.0</td>\n",
       "      <td>1.837348e-04</td>\n",
       "      <td>False</td>\n",
       "      <td>1</td>\n",
       "    </tr>\n",
       "    <tr>\n",
       "      <th>1</th>\n",
       "      <td>77</td>\n",
       "      <td>0.775</td>\n",
       "      <td>54</td>\n",
       "      <td>42.0</td>\n",
       "      <td>2.309977e-03</td>\n",
       "      <td>False</td>\n",
       "      <td>1</td>\n",
       "    </tr>\n",
       "    <tr>\n",
       "      <th>2</th>\n",
       "      <td>77</td>\n",
       "      <td>0.775</td>\n",
       "      <td>58</td>\n",
       "      <td>42.0</td>\n",
       "      <td>6.951970e-05</td>\n",
       "      <td>False</td>\n",
       "      <td>1</td>\n",
       "    </tr>\n",
       "    <tr>\n",
       "      <th>3</th>\n",
       "      <td>77</td>\n",
       "      <td>0.775</td>\n",
       "      <td>60</td>\n",
       "      <td>42.0</td>\n",
       "      <td>8.081576e-06</td>\n",
       "      <td>False</td>\n",
       "      <td>1</td>\n",
       "    </tr>\n",
       "    <tr>\n",
       "      <th>4</th>\n",
       "      <td>77</td>\n",
       "      <td>0.775</td>\n",
       "      <td>57</td>\n",
       "      <td>42.0</td>\n",
       "      <td>1.837348e-04</td>\n",
       "      <td>False</td>\n",
       "      <td>1</td>\n",
       "    </tr>\n",
       "    <tr>\n",
       "      <th>5</th>\n",
       "      <td>77</td>\n",
       "      <td>0.775</td>\n",
       "      <td>58</td>\n",
       "      <td>42.0</td>\n",
       "      <td>6.951970e-05</td>\n",
       "      <td>False</td>\n",
       "      <td>1</td>\n",
       "    </tr>\n",
       "    <tr>\n",
       "      <th>6</th>\n",
       "      <td>77</td>\n",
       "      <td>0.775</td>\n",
       "      <td>54</td>\n",
       "      <td>42.0</td>\n",
       "      <td>2.309977e-03</td>\n",
       "      <td>False</td>\n",
       "      <td>1</td>\n",
       "    </tr>\n",
       "    <tr>\n",
       "      <th>7</th>\n",
       "      <td>77</td>\n",
       "      <td>0.775</td>\n",
       "      <td>59</td>\n",
       "      <td>42.0</td>\n",
       "      <td>2.456498e-05</td>\n",
       "      <td>False</td>\n",
       "      <td>1</td>\n",
       "    </tr>\n",
       "    <tr>\n",
       "      <th>8</th>\n",
       "      <td>77</td>\n",
       "      <td>0.775</td>\n",
       "      <td>60</td>\n",
       "      <td>42.0</td>\n",
       "      <td>8.081576e-06</td>\n",
       "      <td>False</td>\n",
       "      <td>1</td>\n",
       "    </tr>\n",
       "    <tr>\n",
       "      <th>9</th>\n",
       "      <td>77</td>\n",
       "      <td>0.775</td>\n",
       "      <td>62</td>\n",
       "      <td>42.0</td>\n",
       "      <td>6.961105e-07</td>\n",
       "      <td>False</td>\n",
       "      <td>1</td>\n",
       "    </tr>\n",
       "  </tbody>\n",
       "</table>\n",
       "</div>"
      ],
      "text/plain": [
       "    n     xp   t    ca        pvalue accepted  H_i\n",
       "0  77  0.775  57  42.0  1.837348e-04    False    1\n",
       "1  77  0.775  54  42.0  2.309977e-03    False    1\n",
       "2  77  0.775  58  42.0  6.951970e-05    False    1\n",
       "3  77  0.775  60  42.0  8.081576e-06    False    1\n",
       "4  77  0.775  57  42.0  1.837348e-04    False    1\n",
       "5  77  0.775  58  42.0  6.951970e-05    False    1\n",
       "6  77  0.775  54  42.0  2.309977e-03    False    1\n",
       "7  77  0.775  59  42.0  2.456498e-05    False    1\n",
       "8  77  0.775  60  42.0  8.081576e-06    False    1\n",
       "9  77  0.775  62  42.0  6.961105e-07    False    1"
      ]
     },
     "metadata": {},
     "output_type": "display_data"
    }
   ],
   "source": [
    "theta_0 = pstar #0.5\n",
    "alpha=0.5\n",
    "print(nstar, pstar)\n",
    "for n,xp in [(nstar, pstar - (pstar - 0.5) /2.), (nstar, pstar), (nstar, pstar + (pstar - 0.5) /2.) , (nstar, (1 + pstar) /2.)]:\n",
    "    X = sps.bernoulli(p=xp).rvs(size=(10, n))\n",
    "    \n",
    "    df = []\n",
    "    for Xi in X:\n",
    "        t = Xi.sum()\n",
    "        ca = sps.binom(n=n,p=theta_0).ppf(alpha)\n",
    "        pval = 1. - sps.binom(n=n,p=theta_0).cdf(t) \n",
    "        accepted = not(t > ca)\n",
    "        df.append([n, xp, t, ca, pval, accepted, 1 * (not accepted)])\n",
    "\n",
    "    df = pd.DataFrame(df, columns= [\"n\", \"xp\", \"t\", \"ca\", \"pvalue\", \"accepted\", \"H_i\"])\n",
    "    display(df)\n"
   ]
  },
  {
   "cell_type": "markdown",
   "metadata": {},
   "source": [
    "** Вывод: ** мощность критерия есть (1 - (вероятность ошибки второго рода)) (принять неверную $H_0$), что видно из предпоследней таблицы $(1 - 7/10 = 0,3 \\sim 0.2)$ ошибок второго рода совершено. Для значений $p \\in (0.5, p^*)$ имеем 7 из 10 принятых, т.е. при приближении p = 0.5 вероятность принятия стабильна, что позволяет избежать \"болтанки\" критерия, как это было выше."
   ]
  },
  {
   "cell_type": "markdown",
   "metadata": {
    "deletable": true,
    "editable": true
   },
   "source": [
    "### Справка для выполнения следующих задач\n",
    "\n",
    "**Критерий согласия хи-квадрат**\n",
    "\n",
    "<a href=https://docs.scipy.org/doc/scipy/reference/generated/scipy.stats.chisquare.html#scipy.stats.chisquare>`scipy.stats.chisquare`</a>`(f_obs, f_exp=None, ddof=0)`\n",
    "\n",
    "`f_obs` --- число элементов выборки, попавших в каждый из интервалов\n",
    "\n",
    "`f_exp` --- ожидаемое число элементов выборки (по умолчанию равномерное)\n",
    "\n",
    "`ddof` --- поправка на число степеней свободы. Статистика асимптотически будет иметь распределение хи-квадрат с числом степеней свободы $k - 1 - ddof$, где $k$ --- число интервалов.\n",
    "\n",
    "Возвращает значение статистики критерия и соответствующее p-value.\n",
    "\n",
    "**Критерий согласия Колмогорова**\n",
    "\n",
    "<a href=https://docs.scipy.org/doc/scipy/reference/generated/scipy.stats.kstest.html#scipy.stats.kstest>`scipy.stats.kstest`</a>`(rvs, cdf, args=())`\n",
    "\n",
    "`rvs` --- выборка\n",
    "\n",
    "`cdf` --- функция распределения (сама функция или ее название)\n",
    "\n",
    "`args` --- параметры распределения\n",
    "\n",
    "Возвращает значение статистики критерия и соответствующее p-value."
   ]
  },
  {
   "cell_type": "markdown",
   "metadata": {
    "deletable": true,
    "editable": true
   },
   "source": [
    "**Задача 7.**\n",
    "\n",
    "* Проверьте, что ваша выборка значений скорости ветра из задания 2 действительно согласуется с распределением Вейбулла.\n",
    "\n",
    "* Проверьте, что при больших $n$ распределение статистики из задач 3 и 4 задания 2 действительно хорошо приближают предельное распределение.\n",
    "\n",
    "* Проверьте, что остатки в регрессии из задач выше нормальны.\n",
    "\n",
    "* Подберите класс распределений для выборки количества друзей из задания 1.\n",
    "\n",
    "Использовать можно два описанных выше критерия, либо любой другой критерий, если будет обоснована необходимость его применения в данной задаче, а так же будет приведено краткое описание критерия.\n",
    "Уровень значимости взять равным 0.05."
   ]
  },
  {
   "cell_type": "code",
   "execution_count": 467,
   "metadata": {
    "collapsed": false
   },
   "outputs": [
    {
     "name": "stdout",
     "output_type": "stream",
     "text": [
      "(146,)\n"
     ]
    },
    {
     "data": {
      "text/plain": [
       "KstestResult(statistic=0.16124337305586867, pvalue=0.00087636147853897839)"
      ]
     },
     "execution_count": 467,
     "metadata": {},
     "output_type": "execute_result"
    }
   ],
   "source": [
    "X = [2,1,2,3,3,4,2,5,1,2,1,1,2,4,1,1,1,2,1,3,4,2,3,3,4,4,5,3,4,3,4,1,2,3,2,1,6,1,1,4,4,4,2,2,1,3,2,4,5,2,4,4,3,4,5,3,2,3,4,1,3,4,4,3,3,1,4,4,1,3,2, (0.01) ,3,2,1,1,1,1,1,1,1,4,7,3,4,3,2,1,2,1,2,2, (0.01) ,1,1,4,2,2,1,1,3,2,2,1,3,4,6,3,1,1,5,2,4,6,6,6,3,4,3,4,4,2,4,6,5,3,6,2,3,2,3,3,3,3,2,3,3,3,5,4,3,3,2,3,2,4,]\n",
    "X = np.array(X,dtype=float) # weather in Ufa, Russia (Nov 1 2016 - Mar 26 2017)\n",
    "print(X.shape)\n",
    "\n",
    "K = 1.92224\n",
    "L = 3.111\n",
    "scipy.stats.kstest(X, sps.weibull_min(c=K, scale=L).cdf, args=() )"
   ]
  },
  {
   "cell_type": "markdown",
   "metadata": {},
   "source": [
    "____________\n",
    "Как видим, результат прошлых лет так себе. Попробуем подогнать:\n",
    "____________"
   ]
  },
  {
   "cell_type": "code",
   "execution_count": 468,
   "metadata": {
    "collapsed": false,
    "scrolled": true
   },
   "outputs": [
    {
     "name": "stdout",
     "output_type": "stream",
     "text": [
      "0.0139731999675 (1.8686868686868687, 3.2646464646464648)\n"
     ]
    }
   ],
   "source": [
    "pvmax = 0\n",
    "args = (-1, -1)\n",
    "for K in np.linspace(1.8, 1.9, 100):#1.8, 2.1, 100):\n",
    "    for L in np.linspace(3.2, 3.3, 100):#2.9, 3.3, 100):\n",
    "        pvalue = scipy.stats.kstest(X, sps.weibull_min(c=K, scale=L).cdf, args=() ).pvalue\n",
    "        if (pvmax < pvalue):\n",
    "            pvmax = pvalue\n",
    "            args = (K,L)\n",
    "print(pvmax, args)"
   ]
  },
  {
   "cell_type": "markdown",
   "metadata": {},
   "source": [
    "__________\n",
    "**Комментарий:** Имеем плохой результат (гипотеза должна быть отвергнута, pvalue<0.05). Возможно, это связано с грубым округлением значений до целых.\n",
    "__________"
   ]
  },
  {
   "cell_type": "code",
   "execution_count": 464,
   "metadata": {
    "collapsed": false
   },
   "outputs": [
    {
     "name": "stdout",
     "output_type": "stream",
     "text": [
      "(200, 300)\n"
     ]
    },
    {
     "data": {
      "text/plain": [
       "KstestResult(statistic=0.048961873978044745, pvalue=0.74241334650099944)"
      ]
     },
     "execution_count": 464,
     "metadata": {},
     "output_type": "execute_result"
    }
   ],
   "source": [
    "def Tn_prep(n, J, X, mean):\n",
    "    ES = X[:]\n",
    "    ES = ES.cumsum(axis=1) / np.arange(1, ES.shape[1] + 1)\n",
    "\n",
    "    Tn = np.tile(np.arange(1, n + 1), (J, 1))\n",
    "    Tn = np.sqrt(Tn) * (ES - mean)\n",
    "\n",
    "    # SELF-CHECK (TODO REMOVE THIS)\n",
    "    # Z = [[math.sqrt(j) * ((X[i][0:j]).mean() - mean) for j in range(1, X.shape[1] + 1)] for i in range(X.shape[0])]\n",
    "    # Z = np.array(Z)\n",
    "    # print(\"Tn - Z = \", Tn - Z) # should be zeroes\n",
    "    # END SELF-CHECK \n",
    "    \n",
    "    return Tn\n",
    "\n",
    "def plot1(n, J, Tn):\n",
    "    plt.figure(figsize=(14,5))\n",
    "    plt.title(\"$T_{j} (n)$\")\n",
    "    for T in Tn:\n",
    "        plt.plot(np.arange(1, T.size + 1), T, alpha=0.2, color=\"black\")\n",
    "    plt.show()\n",
    " \n",
    "J = 200\n",
    "n = 300\n",
    "Tn = Tn_prep(n=n, J=J, X=sps.norm.rvs(size=(J,n), loc=0., scale=1.), mean=0.)\n",
    "\n",
    "#plot1(n, J, Tn)\n",
    "print(Tn.shape)\n",
    "X = Tn[:, -1]\n",
    "scipy.stats.kstest(X, sps.norm().cdf, args=() )"
   ]
  },
  {
   "cell_type": "markdown",
   "metadata": {},
   "source": [
    "_____________\n",
    "**Комментарий:** Успех! pvalue достатчно большое, мы можем принять гипотезу (№3 a) (**можем принять гипотезу здесь и далее означает \"что нулевую гипотезу нельзя отвергнуть\"**)\n",
    "_____________"
   ]
  },
  {
   "cell_type": "code",
   "execution_count": 469,
   "metadata": {
    "collapsed": false
   },
   "outputs": [
    {
     "data": {
      "text/plain": [
       "KstestResult(statistic=0.062164704135159954, pvalue=0.40913488492880878)"
      ]
     },
     "execution_count": 469,
     "metadata": {},
     "output_type": "execute_result"
    }
   ],
   "source": [
    "J = 200\n",
    "n = 500\n",
    "Tn = Tn_prep(n=n, J=J, X=sps.poisson.rvs(size=(J,n), mu=1.), mean=1.)\n",
    "X = Tn[:, -1]\n",
    "scipy.stats.kstest(X, sps.norm().cdf, args=() )"
   ]
  },
  {
   "cell_type": "markdown",
   "metadata": {
    "deletable": true,
    "editable": true
   },
   "source": [
    "_____________\n",
    "**Комментарий:** Успех! pvalue достатчно большое (>>0.05), мы можем принять гипотезу (№3 б)\n",
    "_____________"
   ]
  },
  {
   "cell_type": "code",
   "execution_count": 470,
   "metadata": {
    "collapsed": false
   },
   "outputs": [
    {
     "data": {
      "text/plain": [
       "KstestResult(statistic=0.060529743707874673, pvalue=0.44382195759181409)"
      ]
     },
     "execution_count": 470,
     "metadata": {},
     "output_type": "execute_result"
    }
   ],
   "source": [
    "n = 300\n",
    "J = 200\n",
    "theta = 1.\n",
    "\n",
    "X = sps.uniform.rvs(size=(J, n), loc=0., scale=theta)\n",
    "ES = X[:]\n",
    "ES = np.maximum.accumulate(ES, axis=1)\n",
    "\n",
    "Tn = np.tile(np.arange(1, n + 1), (J, 1))\n",
    "Tn = Tn * (theta - ES) # n(\\theta - X_{(n)})\n",
    "\n",
    "# SELF-CHECK (TODO REMOVE THIS)\n",
    "# Z = [[j * (theta - (X[i][0:j]).max()) for j in range(1, X.shape[1] + 1)] for i in range(X.shape[0])]\n",
    "# Z = np.array(Z)\n",
    "# print(\"Tn - Z = \", Tn - Z) # should be zeroes\n",
    "# END SELF-CHECK \n",
    "\n",
    "#plt.figure(figsize=(14,5))\n",
    "#plt.title(\"$T_{j} (n)$\")\n",
    "#for T in Tn:\n",
    "#    plt.plot(np.arange(1, T.size + 1), T, alpha=0.2, color=\"black\")\n",
    "#plt.show()\n",
    "\n",
    "T300 = Tn[:,-1]\n",
    "#dens = KDEUnivariate(T300)\n",
    "#dens.fit()\n",
    "#grid = np.linspace(T300.min() - 1., T300.max() + 1., 100)\n",
    "#plt.figure(figsize=(14,5))\n",
    "#plt.plot(grid, sps.expon.pdf(grid, scale=1./theta), color=\"green\", label=\"$Exp(\\\\theta=1) density $\")\n",
    "#plt.plot(grid, dens.evaluate(grid), color=\"red\", label=\"$T_{i, 300} kde$\")\n",
    "#plt.hist(T300, bins=10, normed=True, alpha=0.4, label=\"$T_{i, 300} histogram$\")\n",
    "#plt.scatter(T300, np.ones(J) * -0.01, alpha=0.2, color=\"blue\", label=\"$T_{i, 300} values$\")\n",
    "#plt.legend()\n",
    "#plt.show()\n",
    "X = T300\n",
    "scipy.stats.kstest(X, sps.expon().cdf, args=() )"
   ]
  },
  {
   "cell_type": "markdown",
   "metadata": {},
   "source": [
    "_____________\n",
    "**Комментарий:** Предположение подтверждается kstest-ом (0.44 >> 0.05)\n",
    "_____________"
   ]
  },
  {
   "cell_type": "code",
   "execution_count": 478,
   "metadata": {
    "collapsed": false
   },
   "outputs": [
    {
     "name": "stdout",
     "output_type": "stream",
     "text": [
      "Linear regression on 2 features and 30 examples\n",
      "Sigma: 0.001786\n",
      "\t\tLower\t\tEstimation\tUpper\n",
      "theta_0:\t0.283276\t0.306298\t0.329319\n",
      "theta_1:\t0.003831\t0.005593\t0.007355\n"
     ]
    },
    {
     "data": {
      "text/plain": [
       "KstestResult(statistic=0.10018504045522847, pvalue=0.92408052932748452)"
      ]
     },
     "execution_count": 478,
     "metadata": {},
     "output_type": "execute_result"
    }
   ],
   "source": [
    "df = pd.read_csv(\"ice_cream.txt\", sep=\"\\t\")\n",
    "Y = df.IC.values\n",
    "temp = df.temp.values\n",
    "temp = (temp - 32) / 1.8\n",
    "X = np.array([np.ones(temp.size), temp]).T\n",
    "#print(df)\n",
    "#print(X.T)\n",
    "#print(Y)\n",
    "\n",
    "LR = LinearRegression()\n",
    "LR.fit(X=X, Y=Y)\n",
    "LR.summary()\n",
    "\n",
    "X_kstest = Y - LR.predict(X)\n",
    "mean = X_kstest.mean()\n",
    "S2 = (X_kstest*X_kstest).mean() - (mean**2)\n",
    "scipy.stats.kstest(X_kstest, sps.norm(loc=mean, scale=np.sqrt(S2)).cdf, args=() )"
   ]
  },
  {
   "cell_type": "markdown",
   "metadata": {
    "deletable": true,
    "editable": true
   },
   "source": [
    "_____________\n",
    "**Комментарий:** в качестве параметров используем оценки, которые мы много раз доказывали, что хорошие.\n",
    "Kstest возращает pvalue~0.9 >> 0.05, что говорит о верности предположения (это первая модель задачи о мороженом)\n",
    "_____________"
   ]
  },
  {
   "cell_type": "code",
   "execution_count": 479,
   "metadata": {
    "collapsed": false
   },
   "outputs": [
    {
     "name": "stdout",
     "output_type": "stream",
     "text": [
      "Linear regression on 6 features and 308 examples\n",
      "Sigma: 80.142563\n",
      "\t\tLower\t\tEstimation\tUpper\n",
      "theta_0:\t-0.470390\t0.194335\t0.859059\n",
      "theta_1:\t-67.111403\t-35.615932\t-4.120461\n",
      "theta_2:\t-19.470413\t-4.163103\t11.144207\n",
      "theta_3:\t-5.114255\t1.374728\t7.863711\n",
      "theta_4:\t-14.213253\t3.323200\t20.859653\n",
      "theta_5:\t111.528380\t121.474511\t131.420641\n"
     ]
    },
    {
     "data": {
      "text/plain": [
       "KstestResult(statistic=0.092603828329746896, pvalue=0.009490111456521122)"
      ]
     },
     "execution_count": 479,
     "metadata": {},
     "output_type": "execute_result"
    }
   ],
   "source": [
    "df = pd.read_fwf(\"yacht_hydrodynamics.data\", sep=' ', header=None)\n",
    "# print(df.values, df.values.shape) # we just removed \"\\n\" from\n",
    "X = df.values[:, 0:6]\n",
    "Y = df.values[:, 6]\n",
    "# print(X.shape, Y.shape) \n",
    "\n",
    "LR = LinearRegression()\n",
    "LR.fit(X=X, Y=Y)\n",
    "LR.summary()\n",
    "\n",
    "X_kstest = Y - LR.predict(X)\n",
    "mean = X_kstest.mean()\n",
    "S2 = (X_kstest*X_kstest).mean() - (mean**2)\n",
    "scipy.stats.kstest(X_kstest, sps.norm(loc=mean, scale=np.sqrt(S2)).cdf, args=() )"
   ]
  },
  {
   "cell_type": "markdown",
   "metadata": {
    "deletable": true,
    "editable": true
   },
   "source": [
    "_____________\n",
    "**Комментарий:** используя те же оценки, получаем, что pvalue < 0.05, т.е. гипотеза о нормальности остатков должна быть отвергнута. (Это задача про гидродинамику яхт, и MSE ~ 80 при значениях от 0 до 40 ($sqrt(80) > 8) подтверждает, что использование предположения о линейности остатков не уместно)\n",
    "_____________"
   ]
  },
  {
   "cell_type": "code",
   "execution_count": null,
   "metadata": {
    "collapsed": true
   },
   "outputs": [],
   "source": [
    "import vk\n",
    "import time\n",
    "\n",
    "session = vk.Session()\n",
    "api = vk.API(session)\n",
    "\n",
    "def getFiendsCount(users):\n",
    "    res = []\n",
    "    for user in users:\n",
    "        try:\n",
    "            res.append(len(api.friends.get(user_id=user)))\n",
    "        except Exception:\n",
    "            pass\n",
    "    return res\n",
    "\n",
    "MiptOfficialGroupMembers = api.groups.getMembers(group_id=\"miptru\")\n",
    "print(\"We have reached\", len(MiptOfficialGroupMembers[\"users\"]),\n",
    "      \"https://vk.com/miptru members\")\n",
    "# https://vk.com/dev/groups.getMembers - we cannot get more than 1e3 members ...\n",
    "\n",
    "MiptOfficialGroupMembersFriendsCount = getFiendsCount(MiptOfficialGroupMembers[\"users\"])\n",
    "print(\"We have reached info about\",\n",
    "      len(MiptOfficialGroupMembersFriendsCount), \"of them\")\n",
    "# somebody close info or deleted...\n",
    "\n",
    "X = np.array(MiptOfficialGroupMembersFriendsCount, dtype=float)\n",
    "\n",
    "def plotPeople(X, drawNorm = None, drawGamma = None):\n",
    "    print(\"min =\", X.min(), \", max =\", X.max())\n",
    "    xMin = X.min()\n",
    "    xMax = X.max()\n",
    "    delta = (xMax - xMin) / 20. # for KDE tie\n",
    "    grid = np.linspace(xMin - delta, X.max() + delta, 1000) # for \n",
    "    ecdf = ECDF(X)\n",
    "\n",
    "    density = KDEUnivariate(X) \n",
    "    density.fit()\n",
    "\n",
    "    plt.figure(figsize=(14, 7))\n",
    "    plt.plot(grid, density.evaluate(grid), color=\"green\", label=\"kde\")\n",
    "    plt.plot(grid, ecdf(grid), color=\"red\", label = \"ecdf\")\n",
    "        \n",
    "    if drawGamma != None:\n",
    "        plt.plot(grid, sps.gamma.cdf(grid, a=drawGamma[0],\n",
    "                scale=drawGamma[1]), color=\"yellow\",\n",
    "                label = \"Gamma(\" + str(drawGamma[0]) +\n",
    "                 \",\" + str(drawGamma[1]) + \") cdf\")\n",
    "        \n",
    "    if drawNorm != None:\n",
    "        plt.plot(grid, sps.norm.cdf(grid, loc=drawNorm[0],\n",
    "                scale=drawNorm[1]), color=\"magenta\",\n",
    "                label = \"N(\" + str(drawNorm[0]) + \",\" +\n",
    "                 str(drawNorm[1]) + \") cdf\")\n",
    "        \n",
    "    plt.scatter(X, np.zeros(X.size), alpha=0.1)\n",
    "    plt.grid(ls=\":\")\n",
    "    plt.legend()\n",
    "    plt.show()\n",
    "\n",
    "    plt.figure(figsize=(14, 7))\n",
    "    \n",
    "    if drawGamma != None:\n",
    "        plt.plot(grid, sps.gamma.pdf(grid, a=drawGamma[0],\n",
    "                scale=drawGamma[1]), color=\"yellow\",\n",
    "                label = \"Gamma(\" + str(drawGamma[0]) + \",\" +\n",
    "                 str(drawGamma[1]) + \") pdf\")\n",
    "        \n",
    "    if drawNorm != None:\n",
    "        plt.plot(grid, sps.norm.pdf(grid, loc=drawNorm[0],\n",
    "                scale=drawNorm[1]), color=\"magenta\",\n",
    "                label = \"N(\" + str(drawNorm[0]) + \",\" +\n",
    "                 str(drawNorm[1]) + \") pdf\")\n",
    "        \n",
    "    plt.plot(grid, density.evaluate(grid), color=\"green\", label=\"kde\")\n",
    "    plt.scatter(X, np.zeros(X.size), alpha=0.1)\n",
    "    plt.grid(ls=\":\")\n",
    "    plt.legend()\n",
    "    plt.show()\n",
    "\n",
    "# plotPeople(X)\n",
    "\n",
    "import heapq\n",
    "XCut = X[:]\n",
    "#val = heapq.nlargest(20, XCut)[-1]\n",
    "val = 1000 # this is false that somebody have more than thousand of people\n",
    "print(\"Let's remove people, who has more than\", val, \"friends\")\n",
    "willBeDeleted = (XCut >= val).sum()\n",
    "print(\"We have deleted\", willBeDeleted ,\n",
    "      \"(\",willBeDeleted / XCut.size * 100.,\"%)\" )\n",
    "XCut = XCut[XCut < val]\n",
    "\n",
    "import math\n",
    "x1 = XCut.mean()\n",
    "x2 = (XCut * XCut).mean()\n",
    "\n",
    "def gauMoments(x1, x2): # оценки по методу моментов\n",
    "    second = (x2 - x1*x1) / x1\n",
    "    return (x1 / second, second)\n",
    "def normMoments(x1, x2):\n",
    "    return (x1, math.sqrt(x2 - x1*x1)) # аргумент scale - в sps под корнем"
   ]
  },
  {
   "cell_type": "code",
   "execution_count": 483,
   "metadata": {
    "collapsed": false
   },
   "outputs": [
    {
     "data": {
      "text/plain": [
       "KstestResult(statistic=0.15205468206999018, pvalue=0.0)"
      ]
     },
     "execution_count": 483,
     "metadata": {},
     "output_type": "execute_result"
    }
   ],
   "source": [
    "#print(\"Подберём подходящее значение и распределение руками\")\n",
    "#plotPeople(XCut, drawNorm = (178, 138), drawGamma = (2.8, 96))\n",
    "\n",
    "scipy.stats.kstest(XCut, sps.norm(loc=178, scale=138).cdf, args=() )"
   ]
  },
  {
   "cell_type": "code",
   "execution_count": 484,
   "metadata": {
    "collapsed": false
   },
   "outputs": [
    {
     "data": {
      "text/plain": [
       "KstestResult(statistic=0.045632139136575656, pvalue=0.040814335925567047)"
      ]
     },
     "execution_count": 484,
     "metadata": {},
     "output_type": "execute_result"
    }
   ],
   "source": [
    "scipy.stats.kstest(XCut, sps.gamma(a=2.8, scale=96).cdf, args=() )"
   ]
  },
  {
   "cell_type": "markdown",
   "metadata": {},
   "source": [
    "_____________\n",
    "**Комментарий:** Ожидалось, что у числа друзей будет нормальное распределение. Однако, подобранное ручками gamma-распределение даёт близкий к приемлемому результат.\n",
    "_____________"
   ]
  },
  {
   "cell_type": "code",
   "execution_count": 485,
   "metadata": {
    "collapsed": false
   },
   "outputs": [
    {
     "data": {
      "text/plain": [
       "KstestResult(statistic=0.11986002516525207, pvalue=4.6149750687618507e-12)"
      ]
     },
     "execution_count": 485,
     "metadata": {},
     "output_type": "execute_result"
    }
   ],
   "source": [
    "#print(\"Ещё раз, но по методу моментов\")\n",
    "#plotPeople(XCut, drawNorm = normMoments(x1, x2),\n",
    " #          drawGamma = gauMoments(x1, x2))\n",
    "drawNorm = normMoments(x1, x2)\n",
    "scipy.stats.kstest(XCut, sps.norm(loc=drawNorm[0], scale=drawNorm[1]).cdf, args=() )"
   ]
  },
  {
   "cell_type": "code",
   "execution_count": 486,
   "metadata": {
    "collapsed": false
   },
   "outputs": [
    {
     "data": {
      "text/plain": [
       "KstestResult(statistic=0.62112260247064222, pvalue=0.0)"
      ]
     },
     "execution_count": 486,
     "metadata": {},
     "output_type": "execute_result"
    }
   ],
   "source": [
    "drawGamma = gauMoments(x1, x2)\n",
    "scipy.stats.kstest(XCut, sps.norm(loc=drawGamma[0], scale=drawGamma[1]).cdf, args=() )"
   ]
  },
  {
   "cell_type": "code",
   "execution_count": 496,
   "metadata": {
    "collapsed": false
   },
   "outputs": [
    {
     "name": "stdout",
     "output_type": "stream",
     "text": [
      "0.000265257624611 (247.87878787878788, 167.27272727272728)\n"
     ]
    }
   ],
   "source": [
    "pvmax = 0\n",
    "args = (-1, -1)\n",
    "for loc in np.linspace(245, 250, 100):# итеративный подгон\n",
    "    for scale in np.linspace(165, 170, 100):# итеративный подгон\n",
    "        pvalue = scipy.stats.kstest(XCut, sps.norm(loc=loc, scale=scale).cdf, args=() ).pvalue\n",
    "        if (pvmax < pvalue):\n",
    "            pvmax = pvalue\n",
    "            args = (loc,scale)\n",
    "print(pvmax, args)"
   ]
  },
  {
   "cell_type": "code",
   "execution_count": 502,
   "metadata": {
    "collapsed": false
   },
   "outputs": [
    {
     "name": "stdout",
     "output_type": "stream",
     "text": [
      "0.571569993504 (2.1194974874371857, 126.63683417085429)\n"
     ]
    }
   ],
   "source": [
    "pvmax = 0\n",
    "args = (-1, -1)\n",
    "for loc in np.linspace(0.01, 20, 200):# итеративный подгон\n",
    "    for scale in np.linspace(0.01, 200, 200):# итеративный подгон\n",
    "        pvalue = scipy.stats.kstest(XCut, sps.gamma(a=loc, scale=scale).cdf, args=() ).pvalue\n",
    "        if (pvmax < pvalue):\n",
    "            pvmax = pvalue\n",
    "            args = (loc,scale)\n",
    "print(pvmax, args)"
   ]
  },
  {
   "cell_type": "code",
   "execution_count": 504,
   "metadata": {
    "collapsed": false
   },
   "outputs": [
    {
     "name": "stdout",
     "output_type": "stream",
     "text": [
      "0 (-1, -1)\n"
     ]
    }
   ],
   "source": [
    "pvmax = 0\n",
    "args = (-1, -1)\n",
    "for loc in np.linspace(0.01, 1000, 100):# итеративный подгон\n",
    "    for scale in np.linspace(0.01, 1000, 100):# итеративный подгон\n",
    "        pvalue = scipy.stats.kstest(XCut, sps.lognorm(loc, scale).cdf, args=() ).pvalue\n",
    "        if (pvmax < pvalue):\n",
    "            pvmax = pvalue\n",
    "            args = (loc,scale)\n",
    "print(pvmax, args)"
   ]
  },
  {
   "cell_type": "markdown",
   "metadata": {},
   "source": [
    "_____________\n",
    "**Комментарий:** Ожидалось, что у числа друзей будет нормальное распределение. (Так на лекции говорили, нет?)\n",
    "Однако, из рассмотренных мной нормального и гамма-распределений только gamma нельзя отвергнуть (и его нужно принять! 0.57 >> 0.05)\n",
    "_____________"
   ]
  },
  {
   "cell_type": "markdown",
   "metadata": {
    "deletable": true,
    "editable": true
   },
   "source": [
    "**Задача 8<font size=\"5\" color=\"red\">\\*</font>.** Проведите исследование согласно примеру 2 параграфа 2 главы 18 книги \n",
    "М.Б. Лагутина \"Наглядная математическая статистика\"."
   ]
  },
  {
   "cell_type": "markdown",
   "metadata": {
    "deletable": true,
    "editable": true
   },
   "source": [
    "**Задача 9<font size=\"5\" color=\"red\">\\*</font>.** \n",
    "Изучите Q-Q plot и критерий Шапиро-Уилка для проверки нормальности, напишите их теоретическое пояснение.\n",
    "В изучении могут помочь материалы курса <a href=\"http://wiki.cs.hse.ru/%D0%9F%D1%80%D0%B8%D0%BA%D0%BB%D0%B0%D0%B4%D0%BD%D0%BE%D0%B9_%D1%81%D1%82%D0%B0%D1%82%D0%B8%D1%81%D1%82%D0%B8%D1%87%D0%B5%D1%81%D0%BA%D0%B8%D0%B9_%D0%B0%D0%BD%D0%B0%D0%BB%D0%B8%D0%B7_%D0%B4%D0%B0%D0%BD%D0%BD%D1%8B%D1%85\"> ПСАД</a>.\n",
    "\n",
    "Постройте графики Q-Q plot для различных распределений и дайте к ним пояснение.\n",
    "Проверьте различные данные на нормальность с помощью различных критериев и Q-Q plot.\n",
    "Данные можно использовать из задачи 7 или какие-либо еще, например, отдельные компоненты из Ирисов Фишера.\n",
    "Постарайтесь так же правильно контролировать вероятность общей ошибки первого рода."
   ]
  }
 ],
 "metadata": {
  "kernelspec": {
   "display_name": "Python 3",
   "language": "python",
   "name": "python3"
  },
  "language_info": {
   "codemirror_mode": {
    "name": "ipython",
    "version": 3
   },
   "file_extension": ".py",
   "mimetype": "text/x-python",
   "name": "python",
   "nbconvert_exporter": "python",
   "pygments_lexer": "ipython3",
   "version": "3.5.2"
  }
 },
 "nbformat": 4,
 "nbformat_minor": 0
}
